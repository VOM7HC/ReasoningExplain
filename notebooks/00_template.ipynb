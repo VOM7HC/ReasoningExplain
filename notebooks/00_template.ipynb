{
 "cells": [
  {
   "cell_type": "markdown",
   "metadata": {},
   "source": [
    "# Notebook: Overview\n",
    "\n",
    "Summary: Describe purpose and key results.\\n\n",
    "Inputs: List data sources and parameters.\\n\n",
    "Outputs: Figures/tables produced and where saved."
   ]
  },
  {
   "cell_type": "code",
   "execution_count": 1,
   "id": "ef50e3f3",
   "metadata": {},
   "outputs": [],
   "source": [
    "import sys\n",
    "import os\n",
    "\n",
    "parent_dir = os.path.abspath(os.path.join(os.getcwd(), '..'))\n",
    "if parent_dir not in sys.path:\n",
    "    sys.path.insert(0, parent_dir)\n",
    "\n",
    "reasoning_explain = os.path.join(parent_dir, 'src')\n",
    "if reasoning_explain not in sys.path:\n",
    "    sys.path.insert(0, reasoning_explain)\n",
    "\n",
    "from core import Explainer\n",
    "Explainer().explain(\"demo\")\n",
    "\n",
    "from base import OllamaModel, TfidfTextVectorizer, EmbeddingVectorizer, TransformerVectorizer\n",
    "from token_shap import StringSplitter, TokenSHAP"
   ]
  },
  {
   "cell_type": "markdown",
   "id": "d9a7d722",
   "metadata": {},
   "source": []
  },
  {
   "cell_type": "code",
   "execution_count": null,
   "id": "4285f944",
   "metadata": {},
   "outputs": [
    {
     "name": "stdout",
     "output_type": "stream",
     "text": [
      "TokenSHAP initialized with phi4-mini:latest!\n",
      "Connection successful! Test response: <think>\n",
      "Okay, the user said \"Hello\". I need to res...\n"
     ]
    }
   ],
   "source": [
    "# Force reload the base module to get the latest changes\n",
    "import importlib\n",
    "if 'base' in sys.modules:\n",
    "    importlib.reload(sys.modules['base'])\n",
    "\n",
    "# Initialize phi4-reasoning model with Ollama\n",
    "qwen3_model = OllamaModel(\n",
    "    model_name=\"qwen3:4b\", \n",
    "    api_url=\"http://127.0.0.1:11434\"\n",
    ")\n",
    "\n",
    "# Use TF-IDF vectorizer (no external API needed)\n",
    "#tfidf_vectorizer = TfidfTextVectorizer()\n",
    "#embedding_vectorizer = EmbeddingVectorizer()\n",
    "transformer_vectorizer = TransformerVectorizer()\n",
    "\n",
    "# String splitter for word-level analysis\n",
    "splitter = StringSplitter()\n",
    "\n",
    "# Create TokenSHAP instance\n",
    "token_shap_qwen3 = TokenSHAP(\n",
    "    model=qwen3_model, \n",
    "    splitter=splitter, \n",
    "    vectorizer=transformer_vectorizer,\n",
    "    debug=True\n",
    ")\n",
    "\n",
    "print(\"TokenSHAP initialized with phi4-mini:latest!\")\n",
    "\n",
    "# Test connection\n",
    "try:\n",
    "    test_response = qwen3_model.generate(\"Hello\")\n",
    "    print(f\"Connection successful! Test response: {test_response[:50]}...\")\n",
    "except Exception as e:\n",
    "    print(f\"Connection failed: {e}\")\n",
    "    print(\"Please make sure Ollama is running with: ollama serve\")"
   ]
  },
  {
   "cell_type": "markdown",
   "id": "78477d42",
   "metadata": {},
   "source": []
  },
  {
   "cell_type": "code",
   "execution_count": 3,
   "id": "5ed1a0d1",
   "metadata": {},
   "outputs": [
    {
     "name": "stdout",
     "output_type": "stream",
     "text": [
      "Analyzing with phi4-reasoning: 'Why is the sky blue?'\n",
      "============================================================\n",
      "Number of samples: 5\n",
      "Number of essential combinations: 5\n",
      "Remaining combinations budget after essentials: 995\n",
      "Number of additional combinations to sample: 0\n",
      "No additional combinations to sample.\n",
      "Total combinations to process: 5\n"
     ]
    },
    {
     "data": {
      "application/vnd.jupyter.widget-view+json": {
       "model_id": "fc00c5197449427e872c6b9d74fa1c9b",
       "version_major": 2,
       "version_minor": 0
      },
      "text/plain": [
       "Processing combinations:   0%|          | 0/5 [00:00<?, ?it/s]"
      ]
     },
     "metadata": {},
     "output_type": "display_data"
    },
    {
     "name": "stdout",
     "output_type": "stream",
     "text": [
      "\n",
      "Processing combination 1/5:\n",
      "Combination: ['is', 'the', 'sky', 'blue?']\n",
      "Indexes: (2, 3, 4, 5)\n",
      "Received response for combination 1\n",
      "\n",
      "Processing combination 2/5:\n",
      "Combination: ['Why', 'the', 'sky', 'blue?']\n",
      "Indexes: (1, 3, 4, 5)\n",
      "Received response for combination 2\n",
      "\n",
      "Processing combination 3/5:\n",
      "Combination: ['Why', 'is', 'sky', 'blue?']\n",
      "Indexes: (1, 2, 4, 5)\n",
      "Received response for combination 3\n",
      "\n",
      "Processing combination 4/5:\n",
      "Combination: ['Why', 'is', 'the', 'blue?']\n",
      "Indexes: (1, 2, 3, 5)\n",
      "Received response for combination 4\n",
      "\n",
      "Processing combination 5/5:\n",
      "Combination: ['Why', 'is', 'the', 'sky']\n",
      "Indexes: (1, 2, 3, 4)\n",
      "Received response for combination 5\n"
     ]
    },
    {
     "name": "stderr",
     "output_type": "stream",
     "text": [
      "/home/khoi/anaconda3/envs/tokenshap/lib/python3.12/site-packages/xgboost/core.py:377: FutureWarning: Your system has an old version of glibc (< 2.28). We will stop supporting Linux distros with glibc older than 2.28 after **May 31, 2025**. Please upgrade to a recent Linux distro (with glibc >= 2.28) to use future versions of XGBoost.\n",
      "Note: You have installed the 'manylinux2014' variant of XGBoost. Certain features such as GPU algorithms or federated learning are not available. To use these features, please upgrade to a recent Linux distro with glibc 2.28+, and install the 'manylinux_2_28' variant.\n",
      "  warnings.warn(\n",
      "[I 2025-09-21 09:58:33,511] A new study created in memory with name: no-name-dc7e893c-029c-4084-bfa5-6ed33560d541\n",
      "[I 2025-09-21 09:58:33,539] Trial 0 finished with value: 0.07397544384002686 and parameters: {'learning_rate': 0.28045120564754844, 'max_depth': 6, 'n_estimators': 139, 'subsample': 0.8709922669163673, 'colsample_bytree': 0.934011872395465, 'reg_alpha': 9.435374286566292, 'reg_lambda': 7.104084897476827e-08}. Best is trial 0 with value: 0.07397544384002686.\n",
      "[I 2025-09-21 09:58:33,594] Trial 1 finished with value: 0.05923914909362793 and parameters: {'learning_rate': 0.1955330826647456, 'max_depth': 9, 'n_estimators': 487, 'subsample': 0.685350580367279, 'colsample_bytree': 0.7358949350440263, 'reg_alpha': 9.6140852847875e-05, 'reg_lambda': 0.718344506807395}. Best is trial 1 with value: 0.05923914909362793.\n",
      "[I 2025-09-21 09:58:33,654] Trial 2 finished with value: 0.0657077431678772 and parameters: {'learning_rate': 0.039805352012634986, 'max_depth': 10, 'n_estimators': 498, 'subsample': 0.7868910385505747, 'colsample_bytree': 0.5090546480733216, 'reg_alpha': 1.0460966550669204e-07, 'reg_lambda': 0.004860993798624146}. Best is trial 1 with value: 0.05923914909362793.\n",
      "[I 2025-09-21 09:58:33,705] Trial 3 finished with value: 0.07397544384002686 and parameters: {'learning_rate': 0.0505879693907664, 'max_depth': 5, 'n_estimators': 492, 'subsample': 0.7221925740091794, 'colsample_bytree': 0.6675661112599578, 'reg_alpha': 9.87730985737659, 'reg_lambda': 2.3632696501151268e-08}. Best is trial 1 with value: 0.05923914909362793.\n",
      "[I 2025-09-21 09:58:33,754] Trial 4 finished with value: 0.07397544384002686 and parameters: {'learning_rate': 0.16555186969697588, 'max_depth': 3, 'n_estimators': 460, 'subsample': 0.5152449352796051, 'colsample_bytree': 0.794950716480292, 'reg_alpha': 1.8633000739108252, 'reg_lambda': 0.00045347756288371445}. Best is trial 1 with value: 0.05923914909362793.\n",
      "[I 2025-09-21 09:58:33,780] Trial 5 finished with value: 0.040743112564086914 and parameters: {'learning_rate': 0.19829683588017755, 'max_depth': 4, 'n_estimators': 195, 'subsample': 0.9580793951887079, 'colsample_bytree': 0.8102152171092678, 'reg_alpha': 0.003165575144758533, 'reg_lambda': 3.920807489721732e-05}. Best is trial 5 with value: 0.040743112564086914.\n",
      "[I 2025-09-21 09:58:33,872] Trial 6 finished with value: 0.04744678735733032 and parameters: {'learning_rate': 0.24126352017948008, 'max_depth': 10, 'n_estimators': 284, 'subsample': 0.7366266574558343, 'colsample_bytree': 0.9916793286438554, 'reg_alpha': 1.776968557648824e-07, 'reg_lambda': 0.7369707798182633}. Best is trial 5 with value: 0.040743112564086914.\n",
      "[I 2025-09-21 09:58:33,906] Trial 7 finished with value: 0.062282562255859375 and parameters: {'learning_rate': 0.031064271512909587, 'max_depth': 6, 'n_estimators': 129, 'subsample': 0.762181406770444, 'colsample_bytree': 0.9869703990292071, 'reg_alpha': 2.296648215901644e-05, 'reg_lambda': 3.7593574395469675e-05}. Best is trial 5 with value: 0.040743112564086914.\n",
      "[I 2025-09-21 09:58:33,937] Trial 8 finished with value: 0.06965112686157227 and parameters: {'learning_rate': 0.024222532359416914, 'max_depth': 4, 'n_estimators': 210, 'subsample': 0.5664447802792827, 'colsample_bytree': 0.9661151207995345, 'reg_alpha': 1.8970782224712989e-06, 'reg_lambda': 1.1689051498004085e-06}. Best is trial 5 with value: 0.040743112564086914.\n",
      "[I 2025-09-21 09:58:34,010] Trial 9 finished with value: 0.06563860177993774 and parameters: {'learning_rate': 0.012645986941877532, 'max_depth': 5, 'n_estimators': 493, 'subsample': 0.785836781342413, 'colsample_bytree': 0.857165477459112, 'reg_alpha': 9.950010783921575e-06, 'reg_lambda': 0.0007837836829127076}. Best is trial 5 with value: 0.040743112564086914.\n",
      "[I 2025-09-21 09:58:34,067] Trial 10 finished with value: 0.05041539669036865 and parameters: {'learning_rate': 0.096514735808267, 'max_depth': 3, 'n_estimators': 365, 'subsample': 0.9844414316664596, 'colsample_bytree': 0.6465960810460186, 'reg_alpha': 0.0154629700249209, 'reg_lambda': 1.009483076148523e-05}. Best is trial 5 with value: 0.040743112564086914.\n",
      "[I 2025-09-21 09:58:34,126] Trial 11 finished with value: 0.03781092166900635 and parameters: {'learning_rate': 0.09471666854096945, 'max_depth': 8, 'n_estimators': 268, 'subsample': 0.9898305810637309, 'colsample_bytree': 0.8792821707517882, 'reg_alpha': 0.013675584317815188, 'reg_lambda': 3.952213997333722}. Best is trial 11 with value: 0.03781092166900635.\n",
      "[I 2025-09-21 09:58:34,165] Trial 12 finished with value: 0.036930620670318604 and parameters: {'learning_rate': 0.09979051145998333, 'max_depth': 8, 'n_estimators': 244, 'subsample': 0.9874847830987238, 'colsample_bytree': 0.8655119755918584, 'reg_alpha': 0.007173769719300838, 'reg_lambda': 0.023611782389006165}. Best is trial 12 with value: 0.036930620670318604.\n",
      "[I 2025-09-21 09:58:34,218] Trial 13 finished with value: 0.054279446601867676 and parameters: {'learning_rate': 0.09866150701499085, 'max_depth': 8, 'n_estimators': 321, 'subsample': 0.8996062193133229, 'colsample_bytree': 0.8802216670336185, 'reg_alpha': 0.07721610052123794, 'reg_lambda': 9.845670742530487}. Best is trial 12 with value: 0.036930620670318604.\n",
      "[I 2025-09-21 09:58:34,259] Trial 14 finished with value: 0.044713735580444336 and parameters: {'learning_rate': 0.10274836056931891, 'max_depth': 8, 'n_estimators': 251, 'subsample': 0.8933294411079333, 'colsample_bytree': 0.9000047066973694, 'reg_alpha': 0.001044927148807498, 'reg_lambda': 0.03088815108018698}. Best is trial 12 with value: 0.036930620670318604.\n",
      "[I 2025-09-21 09:58:34,308] Trial 15 finished with value: 0.07397544384002686 and parameters: {'learning_rate': 0.07392565169493351, 'max_depth': 8, 'n_estimators': 374, 'subsample': 0.9961650722627737, 'colsample_bytree': 0.7581563873556645, 'reg_alpha': 0.12455254035830761, 'reg_lambda': 0.14558670066180632}. Best is trial 12 with value: 0.036930620670318604.\n",
      "[I 2025-09-21 09:58:34,349] Trial 16 finished with value: 0.07397544384002686 and parameters: {'learning_rate': 0.13787049316659386, 'max_depth': 7, 'n_estimators': 227, 'subsample': 0.8418945971031897, 'colsample_bytree': 0.8434184379709803, 'reg_alpha': 0.13435655414045627, 'reg_lambda': 6.077384772922177}. Best is trial 12 with value: 0.036930620670318604.\n",
      "[I 2025-09-21 09:58:34,407] Trial 17 finished with value: 0.053747355937957764 and parameters: {'learning_rate': 0.058814272243758445, 'max_depth': 7, 'n_estimators': 317, 'subsample': 0.9347136133232007, 'colsample_bytree': 0.7128908514714614, 'reg_alpha': 0.000614150207016915, 'reg_lambda': 0.014168894573840159}. Best is trial 12 with value: 0.036930620670318604.\n",
      "[I 2025-09-21 09:58:34,453] Trial 18 finished with value: 0.053524553775787354 and parameters: {'learning_rate': 0.12905299209511792, 'max_depth': 9, 'n_estimators': 165, 'subsample': 0.6497661693363586, 'colsample_bytree': 0.9197734547378921, 'reg_alpha': 0.017234156179800494, 'reg_lambda': 0.3105239911902268}. Best is trial 12 with value: 0.036930620670318604.\n",
      "[I 2025-09-21 09:58:34,504] Trial 19 finished with value: 0.06839770078659058 and parameters: {'learning_rate': 0.01808183285166373, 'max_depth': 9, 'n_estimators': 265, 'subsample': 0.8210145228036678, 'colsample_bytree': 0.5684719098066604, 'reg_alpha': 0.00013925257023119703, 'reg_lambda': 0.001877625852847223}. Best is trial 12 with value: 0.036930620670318604.\n",
      "[I 2025-09-21 09:58:34,712] A new study created in memory with name: no-name-92fe8224-4571-4913-ab74-cd4ff0e966de\n",
      "[I 2025-09-21 09:58:34,749] Trial 0 finished with value: 0.044191062450408936 and parameters: {'learning_rate': 0.12701761375002965, 'max_depth': 6, 'n_estimators': 313, 'subsample': 0.8073373265226, 'colsample_bytree': 0.5748975336376924, 'reg_alpha': 4.458961928356965e-08, 'reg_lambda': 4.886498001263027e-07}. Best is trial 0 with value: 0.044191062450408936.\n",
      "[I 2025-09-21 09:58:34,799] Trial 1 finished with value: 0.07397544384002686 and parameters: {'learning_rate': 0.02591829896593561, 'max_depth': 5, 'n_estimators': 453, 'subsample': 0.8082701808405348, 'colsample_bytree': 0.9280592070349187, 'reg_alpha': 0.21103200492935886, 'reg_lambda': 1.8858883731764624e-08}. Best is trial 0 with value: 0.044191062450408936.\n",
      "[I 2025-09-21 09:58:34,844] Trial 2 finished with value: 0.07397544384002686 and parameters: {'learning_rate': 0.13342649940298804, 'max_depth': 4, 'n_estimators': 477, 'subsample': 0.8412231386765263, 'colsample_bytree': 0.8036543538190645, 'reg_alpha': 0.5913992806051817, 'reg_lambda': 2.8927317445222275e-05}. Best is trial 0 with value: 0.044191062450408936.\n",
      "[I 2025-09-21 09:58:34,906] Trial 3 finished with value: 0.02942216396331787 and parameters: {'learning_rate': 0.019489102556363526, 'max_depth': 9, 'n_estimators': 351, 'subsample': 0.7126739943570914, 'colsample_bytree': 0.8547854951593381, 'reg_alpha': 2.492069078554511e-07, 'reg_lambda': 5.3229668404546556e-05}. Best is trial 3 with value: 0.02942216396331787.\n",
      "[I 2025-09-21 09:58:34,925] Trial 4 finished with value: 0.05423194169998169 and parameters: {'learning_rate': 0.011905300768138753, 'max_depth': 5, 'n_estimators': 105, 'subsample': 0.6805570206821141, 'colsample_bytree': 0.5533293800683685, 'reg_alpha': 0.0014809624898581978, 'reg_lambda': 0.8069808399851549}. Best is trial 3 with value: 0.02942216396331787.\n",
      "[I 2025-09-21 09:58:34,959] Trial 5 finished with value: 0.04494208097457886 and parameters: {'learning_rate': 0.25935550481054537, 'max_depth': 5, 'n_estimators': 287, 'subsample': 0.6116551116116402, 'colsample_bytree': 0.5659942143772381, 'reg_alpha': 1.1309426723549597e-07, 'reg_lambda': 1.2572872359938876e-07}. Best is trial 3 with value: 0.02942216396331787.\n",
      "[I 2025-09-21 09:58:35,002] Trial 6 finished with value: 0.07397544384002686 and parameters: {'learning_rate': 0.11449435011073714, 'max_depth': 10, 'n_estimators': 435, 'subsample': 0.7505795165048762, 'colsample_bytree': 0.5057969287532836, 'reg_alpha': 0.6698254659669813, 'reg_lambda': 1.4070441436588247e-05}. Best is trial 3 with value: 0.02942216396331787.\n",
      "[I 2025-09-21 09:58:35,059] Trial 7 finished with value: 0.035583317279815674 and parameters: {'learning_rate': 0.01766906709064327, 'max_depth': 9, 'n_estimators': 491, 'subsample': 0.6258944714883901, 'colsample_bytree': 0.9856624234899791, 'reg_alpha': 0.04633090490186653, 'reg_lambda': 1.3923194761334297e-07}. Best is trial 3 with value: 0.02942216396331787.\n",
      "[I 2025-09-21 09:58:35,099] Trial 8 finished with value: 0.027142047882080078 and parameters: {'learning_rate': 0.08363781884109354, 'max_depth': 6, 'n_estimators': 298, 'subsample': 0.9208236726331416, 'colsample_bytree': 0.7391290330709404, 'reg_alpha': 0.006594204510964492, 'reg_lambda': 8.738366392801767e-05}. Best is trial 8 with value: 0.027142047882080078.\n",
      "[I 2025-09-21 09:58:35,140] Trial 9 finished with value: 0.07397544384002686 and parameters: {'learning_rate': 0.019431126969376634, 'max_depth': 9, 'n_estimators': 337, 'subsample': 0.9607117061688477, 'colsample_bytree': 0.872568964477149, 'reg_alpha': 0.16068930249762048, 'reg_lambda': 7.4045723909567595e-06}. Best is trial 8 with value: 0.027142047882080078.\n",
      "[I 2025-09-21 09:58:35,182] Trial 10 finished with value: 0.022103548049926758 and parameters: {'learning_rate': 0.04880674689662694, 'max_depth': 3, 'n_estimators': 186, 'subsample': 0.9876631562181677, 'colsample_bytree': 0.6940044444595563, 'reg_alpha': 2.1731253601059402e-05, 'reg_lambda': 0.028425563906582865}. Best is trial 10 with value: 0.022103548049926758.\n",
      "[I 2025-09-21 09:58:35,216] Trial 11 finished with value: 0.022275447845458984 and parameters: {'learning_rate': 0.050207020531338305, 'max_depth': 3, 'n_estimators': 186, 'subsample': 0.9861408199276529, 'colsample_bytree': 0.6718930217203212, 'reg_alpha': 2.0373414255898417e-05, 'reg_lambda': 0.02255520368032244}. Best is trial 10 with value: 0.022103548049926758.\n",
      "[I 2025-09-21 09:58:35,258] Trial 12 finished with value: 0.021712303161621094 and parameters: {'learning_rate': 0.04338450492872089, 'max_depth': 3, 'n_estimators': 180, 'subsample': 0.9960018643983516, 'colsample_bytree': 0.7025715120399304, 'reg_alpha': 1.1991672932450566e-05, 'reg_lambda': 0.028803903602595382}. Best is trial 12 with value: 0.021712303161621094.\n",
      "[I 2025-09-21 09:58:35,302] Trial 13 finished with value: 0.02970486879348755 and parameters: {'learning_rate': 0.03986089256734734, 'max_depth': 3, 'n_estimators': 198, 'subsample': 0.8885702628231288, 'colsample_bytree': 0.6847611234587584, 'reg_alpha': 2.6299911487052017e-05, 'reg_lambda': 0.01396785562347339}. Best is trial 12 with value: 0.021712303161621094.\n",
      "[I 2025-09-21 09:58:35,340] Trial 14 finished with value: 0.03354835510253906 and parameters: {'learning_rate': 0.035976348168746, 'max_depth': 3, 'n_estimators': 205, 'subsample': 0.9992878409238761, 'colsample_bytree': 0.6586999026621984, 'reg_alpha': 1.0519665380806516e-05, 'reg_lambda': 0.005165279498284773}. Best is trial 12 with value: 0.021712303161621094.\n",
      "[I 2025-09-21 09:58:35,379] Trial 15 finished with value: 0.039960622787475586 and parameters: {'learning_rate': 0.07796348470322512, 'max_depth': 4, 'n_estimators': 136, 'subsample': 0.5423495680195418, 'colsample_bytree': 0.7541944895943065, 'reg_alpha': 1.5399823723781766e-06, 'reg_lambda': 6.365915373213912}. Best is trial 12 with value: 0.021712303161621094.\n",
      "[I 2025-09-21 09:59:15,748] Trial 16 finished with value: 0.03950923681259155 and parameters: {'learning_rate': 0.06282870021307935, 'max_depth': 7, 'n_estimators': 243, 'subsample': 0.9000683784068375, 'colsample_bytree': 0.6368328851746169, 'reg_alpha': 0.00015273185029138756, 'reg_lambda': 0.21410221443858737}. Best is trial 12 with value: 0.021712303161621094.\n",
      "[I 2025-09-21 09:59:15,783] Trial 17 finished with value: 0.025618672370910645 and parameters: {'learning_rate': 0.03220507969900314, 'max_depth': 7, 'n_estimators': 150, 'subsample': 0.9377030011068835, 'colsample_bytree': 0.7526409233927972, 'reg_alpha': 0.0003806225199734873, 'reg_lambda': 0.002650995702349235}. Best is trial 12 with value: 0.021712303161621094.\n",
      "[I 2025-09-21 09:59:15,825] Trial 18 finished with value: 0.03739064931869507 and parameters: {'learning_rate': 0.2812025618562048, 'max_depth': 4, 'n_estimators': 241, 'subsample': 0.8603367728980982, 'colsample_bytree': 0.7093712614047638, 'reg_alpha': 7.022655403976612e-07, 'reg_lambda': 0.0007064465623084643}. Best is trial 12 with value: 0.021712303161621094.\n",
      "[I 2025-09-21 09:59:15,869] Trial 19 finished with value: 0.04123121500015259 and parameters: {'learning_rate': 0.05174262892891783, 'max_depth': 3, 'n_estimators': 256, 'subsample': 0.7741108117619426, 'colsample_bytree': 0.6186596771159177, 'reg_alpha': 1.0143526073437481e-08, 'reg_lambda': 0.10929692573529978}. Best is trial 12 with value: 0.021712303161621094.\n",
      "[I 2025-09-21 09:59:15,872] A new study created in memory with name: no-name-e4d69a4d-c130-4c69-9c77-03e0933471eb\n",
      "[I 2025-09-21 09:59:15,919] Trial 0 finished with value: 0.02815335988998413 and parameters: {'learning_rate': 0.029681338059769444, 'max_depth': 9, 'n_estimators': 378, 'subsample': 0.9519611555605887, 'colsample_bytree': 0.9287135069027543, 'reg_alpha': 0.0017333583158355636, 'reg_lambda': 0.0026843583730246567}. Best is trial 0 with value: 0.02815335988998413.\n",
      "[I 2025-09-21 09:58:35,622] Trial 1 finished with value: 0.07397544384002686 and parameters: {'learning_rate': 0.20004600093043814, 'max_depth': 7, 'n_estimators': 284, 'subsample': 0.8949530565206467, 'colsample_bytree': 0.5825761548198034, 'reg_alpha': 2.040852709039836, 'reg_lambda': 0.0011296438955831702}. Best is trial 0 with value: 0.02815335988998413.\n",
      "[I 2025-09-21 09:58:35,674] Trial 2 finished with value: 0.06321907043457031 and parameters: {'learning_rate': 0.0108906897445248, 'max_depth': 10, 'n_estimators': 370, 'subsample': 0.8220868086833079, 'colsample_bytree': 0.6783949160216969, 'reg_alpha': 1.8748485598756086e-06, 'reg_lambda': 5.986554512099637e-06}. Best is trial 0 with value: 0.02815335988998413.\n",
      "[I 2025-09-21 09:58:35,732] Trial 3 finished with value: 0.051975131034851074 and parameters: {'learning_rate': 0.07398513700675836, 'max_depth': 5, 'n_estimators': 487, 'subsample': 0.8829122930219231, 'colsample_bytree': 0.8773800816636961, 'reg_alpha': 0.0001722305289242988, 'reg_lambda': 3.182781830415926e-07}. Best is trial 0 with value: 0.02815335988998413.\n",
      "[I 2025-09-21 09:58:35,768] Trial 4 finished with value: 0.04890841245651245 and parameters: {'learning_rate': 0.033907774697301434, 'max_depth': 9, 'n_estimators': 321, 'subsample': 0.8750006491703662, 'colsample_bytree': 0.8255322644828026, 'reg_alpha': 5.357233669216454e-05, 'reg_lambda': 1.9320479098050232e-08}. Best is trial 0 with value: 0.02815335988998413.\n",
      "[I 2025-09-21 09:58:35,795] Trial 5 finished with value: 0.07397544384002686 and parameters: {'learning_rate': 0.01047441135439382, 'max_depth': 10, 'n_estimators': 292, 'subsample': 0.77531643295402, 'colsample_bytree': 0.605191656811841, 'reg_alpha': 0.46047504339650625, 'reg_lambda': 5.538641334913876}. Best is trial 0 with value: 0.02815335988998413.\n",
      "[I 2025-09-21 09:58:35,859] Trial 6 finished with value: 0.07312560081481934 and parameters: {'learning_rate': 0.02364011016742138, 'max_depth': 10, 'n_estimators': 496, 'subsample': 0.6539598951192112, 'colsample_bytree': 0.7697099601066417, 'reg_alpha': 8.506977583301984e-06, 'reg_lambda': 0.035702911597102926}. Best is trial 0 with value: 0.02815335988998413.\n",
      "[I 2025-09-21 09:58:35,909] Trial 7 finished with value: 0.05562543869018555 and parameters: {'learning_rate': 0.02053064740146325, 'max_depth': 7, 'n_estimators': 304, 'subsample': 0.8153902701912721, 'colsample_bytree': 0.7948948413444964, 'reg_alpha': 1.7625719957966133e-05, 'reg_lambda': 1.1241454011793248}. Best is trial 0 with value: 0.02815335988998413.\n",
      "[I 2025-09-21 09:58:35,960] Trial 8 finished with value: 0.08367258310317993 and parameters: {'learning_rate': 0.17920184687626095, 'max_depth': 8, 'n_estimators': 467, 'subsample': 0.6845651045918459, 'colsample_bytree': 0.7722699181357198, 'reg_alpha': 1.4021089318051395e-05, 'reg_lambda': 6.098819740115849e-07}. Best is trial 0 with value: 0.02815335988998413.\n",
      "[I 2025-09-21 09:58:35,992] Trial 9 finished with value: 0.07397544384002686 and parameters: {'learning_rate': 0.012635499829746717, 'max_depth': 6, 'n_estimators': 250, 'subsample': 0.7515234735854306, 'colsample_bytree': 0.7373779316568703, 'reg_alpha': 6.121134815156131, 'reg_lambda': 7.452442055451363e-08}. Best is trial 0 with value: 0.02815335988998413.\n",
      "[I 2025-09-21 09:58:36,030] Trial 10 finished with value: 0.05798447132110596 and parameters: {'learning_rate': 0.06536223062260108, 'max_depth': 3, 'n_estimators': 117, 'subsample': 0.503998973097386, 'colsample_bytree': 0.9960174447449341, 'reg_alpha': 1.0779126393945303e-08, 'reg_lambda': 0.00015019158984462124}. Best is trial 0 with value: 0.02815335988998413.\n",
      "[I 2025-09-21 09:58:36,080] Trial 11 finished with value: 0.035096049308776855 and parameters: {'learning_rate': 0.0352576790282295, 'max_depth': 8, 'n_estimators': 389, 'subsample': 0.997121117026161, 'colsample_bytree': 0.9215864137209162, 'reg_alpha': 0.009683574257079228, 'reg_lambda': 0.0007612291145132122}. Best is trial 0 with value: 0.02815335988998413.\n",
      "[I 2025-09-21 09:58:36,140] Trial 12 finished with value: 0.03803253173828125 and parameters: {'learning_rate': 0.04381138592835814, 'max_depth': 8, 'n_estimators': 403, 'subsample': 0.9983522284547524, 'colsample_bytree': 0.9665196194668619, 'reg_alpha': 0.018015913692596704, 'reg_lambda': 0.004332497865257122}. Best is trial 0 with value: 0.02815335988998413.\n",
      "[I 2025-09-21 09:58:36,197] Trial 13 finished with value: 0.03058934211730957 and parameters: {'learning_rate': 0.10385228726112351, 'max_depth': 8, 'n_estimators': 403, 'subsample': 0.9998976461468615, 'colsample_bytree': 0.9075398038341865, 'reg_alpha': 0.010211974150377468, 'reg_lambda': 5.0360753458641966e-05}. Best is trial 0 with value: 0.02815335988998413.\n",
      "[I 2025-09-21 09:58:36,258] Trial 14 finished with value: 0.05199998617172241 and parameters: {'learning_rate': 0.12238995358927773, 'max_depth': 5, 'n_estimators': 424, 'subsample': 0.9499446672725029, 'colsample_bytree': 0.8780803641157147, 'reg_alpha': 0.003882630610667647, 'reg_lambda': 2.1208207586284273e-05}. Best is trial 0 with value: 0.02815335988998413.\n",
      "[I 2025-09-21 09:58:36,290] Trial 15 finished with value: 0.07397544384002686 and parameters: {'learning_rate': 0.09357986500990265, 'max_depth': 9, 'n_estimators': 184, 'subsample': 0.9417132029898604, 'colsample_bytree': 0.9252743137060162, 'reg_alpha': 0.1397090084550498, 'reg_lambda': 0.07405977602952792}. Best is trial 0 with value: 0.02815335988998413.\n",
      "[I 2025-09-21 09:58:36,340] Trial 16 finished with value: 0.04928243160247803 and parameters: {'learning_rate': 0.11176037511729132, 'max_depth': 9, 'n_estimators': 352, 'subsample': 0.9388542253942609, 'colsample_bytree': 0.8579863568512208, 'reg_alpha': 0.0010506162259292036, 'reg_lambda': 3.870535571883607e-05}. Best is trial 0 with value: 0.02815335988998413.\n",
      "[I 2025-09-21 09:58:36,392] Trial 17 finished with value: 0.09918701648712158 and parameters: {'learning_rate': 0.2960634265999873, 'max_depth': 6, 'n_estimators': 434, 'subsample': 0.6776951042779564, 'colsample_bytree': 0.5230644961173281, 'reg_alpha': 3.734001534627758e-07, 'reg_lambda': 0.025294273474673216}. Best is trial 0 with value: 0.02815335988998413.\n",
      "[I 2025-09-21 09:58:36,432] Trial 18 finished with value: 0.042279958724975586 and parameters: {'learning_rate': 0.018703300747203073, 'max_depth': 3, 'n_estimators': 242, 'subsample': 0.5479194284917286, 'colsample_bytree': 0.9494099610905358, 'reg_alpha': 0.02911362745969753, 'reg_lambda': 3.102181801696901e-06}. Best is trial 0 with value: 0.02815335988998413.\n",
      "[I 2025-09-21 09:58:36,486] Trial 19 finished with value: 0.07118839025497437 and parameters: {'learning_rate': 0.05060306694367458, 'max_depth': 8, 'n_estimators': 350, 'subsample': 0.846368586147807, 'colsample_bytree': 0.6999568665924525, 'reg_alpha': 0.0014510164699234468, 'reg_lambda': 0.00014127443878839382}. Best is trial 0 with value: 0.02815335988998413.\n",
      "[I 2025-09-21 09:58:36,488] A new study created in memory with name: no-name-fae6ad76-f7bb-47d6-a9d6-880aa7e3919c\n",
      "[I 2025-09-21 09:58:36,534] Trial 0 finished with value: 0.03918814659118652 and parameters: {'learning_rate': 0.0975129238229049, 'max_depth': 5, 'n_estimators': 496, 'subsample': 0.8350119864475501, 'colsample_bytree': 0.5479584767044708, 'reg_alpha': 0.002037103847654824, 'reg_lambda': 1.289254849033036e-08}. Best is trial 0 with value: 0.03918814659118652.\n",
      "[I 2025-09-21 09:58:36,573] Trial 1 finished with value: 0.039348602294921875 and parameters: {'learning_rate': 0.0674368614329592, 'max_depth': 9, 'n_estimators': 436, 'subsample': 0.7090336382786768, 'colsample_bytree': 0.7948857573979129, 'reg_alpha': 3.174358102403778e-08, 'reg_lambda': 0.06659273824774761}. Best is trial 0 with value: 0.03918814659118652.\n",
      "[I 2025-09-21 09:58:36,631] Trial 2 finished with value: 0.04460752010345459 and parameters: {'learning_rate': 0.015644983282115752, 'max_depth': 5, 'n_estimators': 424, 'subsample': 0.8122997375115526, 'colsample_bytree': 0.5746931288790302, 'reg_alpha': 1.36327035657638e-06, 'reg_lambda': 0.14454869681239538}. Best is trial 0 with value: 0.03918814659118652.\n",
      "[I 2025-09-21 09:58:36,684] Trial 3 finished with value: 0.04244673252105713 and parameters: {'learning_rate': 0.09950000651997042, 'max_depth': 8, 'n_estimators': 465, 'subsample': 0.8359613392409123, 'colsample_bytree': 0.5905689669492049, 'reg_alpha': 3.910666671791841e-06, 'reg_lambda': 0.8662852304966835}. Best is trial 0 with value: 0.03918814659118652.\n",
      "[I 2025-09-21 09:58:36,743] Trial 4 finished with value: 0.07397544384002686 and parameters: {'learning_rate': 0.1484346948111124, 'max_depth': 10, 'n_estimators': 467, 'subsample': 0.8736335088413474, 'colsample_bytree': 0.7235808697626833, 'reg_alpha': 0.13089939669791437, 'reg_lambda': 0.09098486890488035}. Best is trial 0 with value: 0.03918814659118652.\n",
      "[I 2025-09-21 09:58:36,793] Trial 5 finished with value: 0.04447650909423828 and parameters: {'learning_rate': 0.019084797954295067, 'max_depth': 7, 'n_estimators': 310, 'subsample': 0.8954770045074376, 'colsample_bytree': 0.6130407236132407, 'reg_alpha': 0.015286348555746298, 'reg_lambda': 0.00041799706904354077}. Best is trial 0 with value: 0.03918814659118652.\n",
      "[I 2025-09-21 09:58:36,818] Trial 6 finished with value: 0.04909569025039673 and parameters: {'learning_rate': 0.20555943220093315, 'max_depth': 6, 'n_estimators': 148, 'subsample': 0.7794294938206201, 'colsample_bytree': 0.6750779207864318, 'reg_alpha': 0.06938195789174237, 'reg_lambda': 4.2090712496876115e-06}. Best is trial 0 with value: 0.03918814659118652.\n",
      "[I 2025-09-21 09:58:36,863] Trial 7 finished with value: 0.04281669855117798 and parameters: {'learning_rate': 0.057989297907297656, 'max_depth': 5, 'n_estimators': 220, 'subsample': 0.8695604949191136, 'colsample_bytree': 0.5442933978976748, 'reg_alpha': 2.7724798695483393e-06, 'reg_lambda': 3.01730641426119e-05}. Best is trial 0 with value: 0.03918814659118652.\n",
      "[I 2025-09-21 09:58:36,900] Trial 8 finished with value: 0.04000800848007202 and parameters: {'learning_rate': 0.051812757578708644, 'max_depth': 5, 'n_estimators': 262, 'subsample': 0.651662247270065, 'colsample_bytree': 0.9668399789296386, 'reg_alpha': 1.2476950814431248e-05, 'reg_lambda': 0.00013396449662330393}. Best is trial 0 with value: 0.03918814659118652.\n",
      "[I 2025-09-21 09:58:36,944] Trial 9 finished with value: 0.0525931715965271 and parameters: {'learning_rate': 0.023738875210019356, 'max_depth': 10, 'n_estimators': 327, 'subsample': 0.5344060902796219, 'colsample_bytree': 0.6872150342782113, 'reg_alpha': 0.00015150176659624486, 'reg_lambda': 0.0008542621579608553}. Best is trial 0 with value: 0.03918814659118652.\n",
      "[I 2025-09-21 09:58:37,001] Trial 10 finished with value: 0.07397544384002686 and parameters: {'learning_rate': 0.26727543579950735, 'max_depth': 3, 'n_estimators': 353, 'subsample': 0.9651768081847483, 'colsample_bytree': 0.8241817953271152, 'reg_alpha': 4.095038949973576, 'reg_lambda': 1.1250312763102027e-08}. Best is trial 0 with value: 0.03918814659118652.\n",
      "[I 2025-09-21 09:58:37,064] Trial 11 finished with value: 0.03974992036819458 and parameters: {'learning_rate': 0.06954055543187011, 'max_depth': 8, 'n_estimators': 394, 'subsample': 0.6869888522336803, 'colsample_bytree': 0.8343273679300559, 'reg_alpha': 6.196726181108119e-08, 'reg_lambda': 1.8445711303435358e-08}. Best is trial 0 with value: 0.03918814659118652.\n",
      "[I 2025-09-21 09:58:37,141] Trial 12 finished with value: 0.035361647605895996 and parameters: {'learning_rate': 0.03612944738277033, 'max_depth': 3, 'n_estimators': 499, 'subsample': 0.6995146861679508, 'colsample_bytree': 0.8192944597136242, 'reg_alpha': 0.00101259244413628, 'reg_lambda': 0.015059189631839316}. Best is trial 12 with value: 0.035361647605895996.\n",
      "[I 2025-09-21 09:58:37,231] Trial 13 finished with value: 0.04502290487289429 and parameters: {'learning_rate': 0.03502950578554541, 'max_depth': 3, 'n_estimators': 498, 'subsample': 0.6002027814828759, 'colsample_bytree': 0.9249060462524143, 'reg_alpha': 0.0009178387558117441, 'reg_lambda': 7.92384085966052e-07}. Best is trial 12 with value: 0.035361647605895996.\n",
      "[I 2025-09-21 09:58:37,318] Trial 14 finished with value: 0.027956783771514893 and parameters: {'learning_rate': 0.03322089421412306, 'max_depth': 4, 'n_estimators': 384, 'subsample': 0.7654800642355672, 'colsample_bytree': 0.8558391596015071, 'reg_alpha': 0.0018723786823970606, 'reg_lambda': 0.003945686641225099}. Best is trial 14 with value: 0.027956783771514893.\n",
      "[I 2025-09-21 09:58:37,383] Trial 15 finished with value: 0.030178070068359375 and parameters: {'learning_rate': 0.011115696429219227, 'max_depth': 3, 'n_estimators': 385, 'subsample': 0.7495305823221774, 'colsample_bytree': 0.8934972431445609, 'reg_alpha': 0.00011521465601024382, 'reg_lambda': 0.00804931700092374}. Best is trial 14 with value: 0.027956783771514893.\n",
      "[I 2025-09-21 09:58:37,451] Trial 16 finished with value: 0.042192816734313965 and parameters: {'learning_rate': 0.010272363565246502, 'max_depth': 4, 'n_estimators': 366, 'subsample': 0.6244930045036907, 'colsample_bytree': 0.9067126130322204, 'reg_alpha': 6.693163638834571e-05, 'reg_lambda': 0.004184566925826435}. Best is trial 14 with value: 0.027956783771514893.\n",
      "[I 2025-09-21 09:58:37,499] Trial 17 finished with value: 0.07397544384002686 and parameters: {'learning_rate': 0.01013411929524925, 'max_depth': 4, 'n_estimators': 249, 'subsample': 0.7485321415590221, 'colsample_bytree': 0.879967552386029, 'reg_alpha': 2.7606606581721866, 'reg_lambda': 7.609974275076317}. Best is trial 14 with value: 0.027956783771514893.\n",
      "[I 2025-09-21 09:58:37,554] Trial 18 finished with value: 0.017399370670318604 and parameters: {'learning_rate': 0.02577249840161211, 'max_depth': 4, 'n_estimators': 382, 'subsample': 0.9561008190148779, 'colsample_bytree': 0.9998604779025453, 'reg_alpha': 0.006830551544979196, 'reg_lambda': 0.0034327745751253696}. Best is trial 18 with value: 0.017399370670318604.\n",
      "[I 2025-09-21 09:58:37,598] Trial 19 finished with value: 0.019986271858215332 and parameters: {'learning_rate': 0.0322234387188771, 'max_depth': 6, 'n_estimators': 184, 'subsample': 0.9701534397877829, 'colsample_bytree': 0.9885381510118909, 'reg_alpha': 0.011113357530903022, 'reg_lambda': 6.064064361174832e-05}. Best is trial 18 with value: 0.017399370670318604.\n"
     ]
    },
    {
     "name": "stdout",
     "output_type": "stream",
     "text": [
      "\u001b[48;2;255;255;254mWhy\u001b[0m \u001b[48;2;255;255;255mis\u001b[0m \u001b[48;2;255;255;254mthe\u001b[0m \u001b[48;2;255;255;66msky\u001b[0m \u001b[48;2;255;255;0mblue?\u001b[0m \n",
      "\n",
      "Analysis Results:\n",
      "\u001b[38;2;31;31;255mWhy\u001b[0m \u001b[38;2;0;0;255mis\u001b[0m \u001b[38;2;30;30;255mthe\u001b[0m \u001b[38;2;255;49;49msky\u001b[0m \u001b[38;2;255;0;0mblue?\u001b[0m \n"
     ]
    }
   ],
   "source": [
    "prompt1 = \"Why is the sky blue?\"\n",
    "\n",
    "print(f\"Analyzing with phi4-reasoning: '{prompt1}'\")\n",
    "print(\"=\"*60)\n",
    "\n",
    "# Perform TokenSHAP analysis\n",
    "df_qwen3 = token_shap_qwen3.analyze(\n",
    "    prompt1, \n",
    "    sampling_ratio=0.0,  # Use only essential combinations for faster execution\n",
    "    print_highlight_text=True\n",
    ")\n",
    "\n",
    "# Display results\n",
    "print(\"\\nAnalysis Results:\")\n",
    "token_shap_qwen3.print_colored_text()"
   ]
  }
 ],
 "metadata": {
  "kernelspec": {
   "display_name": "tokenshap",
   "language": "python",
   "name": "python3"
  },
  "language_info": {
   "codemirror_mode": {
    "name": "ipython",
    "version": 3
   },
   "file_extension": ".py",
   "mimetype": "text/x-python",
   "name": "python",
   "nbconvert_exporter": "python",
   "pygments_lexer": "ipython3",
   "version": "3.12.3"
  }
 },
 "nbformat": 4,
 "nbformat_minor": 5
}
