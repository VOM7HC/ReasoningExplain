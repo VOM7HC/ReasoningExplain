{
 "cells": [
  {
   "cell_type": "markdown",
   "metadata": {},
   "source": [
    "# Notebook: Overview\n",
    "\n",
    "Summary: Describe purpose and key results.\\n\n",
    "Inputs: List data sources and parameters.\\n\n",
    "Outputs: Figures/tables produced and where saved."
   ]
  },
  {
   "cell_type": "code",
   "execution_count": 4,
   "metadata": {},
   "outputs": [],
   "source": [
    "import sys\n",
    "import os\n",
    "\n",
    "parent_dir = os.path.abspath(os.path.join(os.getcwd(), '..'))\n",
    "if parent_dir not in sys.path:\n",
    "    sys.path.insert(0, parent_dir)\n",
    "\n",
    "reasoning_explain = os.path.join(parent_dir, 'src')\n",
    "if reasoning_explain not in sys.path:\n",
    "    sys.path.insert(0, reasoning_explain)\n",
    "\n",
    "from core import Explainer\n",
    "Explainer().explain(\"demo\")\n",
    "\n",
    "from base import OllamaModel, TfidfTextVectorizer\n",
    "from token_shap import StringSplitter, TokenSHAP"
   ]
  },
  {
   "cell_type": "markdown",
   "id": "d9a7d722",
   "metadata": {},
   "source": []
  },
  {
   "cell_type": "code",
   "execution_count": 5,
   "id": "4285f944",
   "metadata": {},
   "outputs": [
    {
     "name": "stdout",
     "output_type": "stream",
     "text": [
      "TokenSHAP initialized with phi4-reasoning:latest!\n",
      "Connection successful! Test response: <think>User says: \"Hello\". I'm asked by user messa...\n"
     ]
    }
   ],
   "source": [
    "# Force reload the base module to get the latest changes\n",
    "import importlib\n",
    "if 'base' in sys.modules:\n",
    "    importlib.reload(sys.modules['base'])\n",
    "\n",
    "# Initialize phi4-reasoning model with Ollama\n",
    "phi4_model = OllamaModel(\n",
    "    model_name=\"phi4-reasoning:latest\", \n",
    "    api_url=\"http://127.0.0.1:11434\"\n",
    ")\n",
    "\n",
    "# Use TF-IDF vectorizer (no external API needed)\n",
    "tfidf_vectorizer = TfidfTextVectorizer()\n",
    "\n",
    "# String splitter for word-level analysis\n",
    "splitter = StringSplitter()\n",
    "\n",
    "# Create TokenSHAP instance\n",
    "token_shap_phi4 = TokenSHAP(\n",
    "    model=phi4_model, \n",
    "    splitter=splitter, \n",
    "    vectorizer=tfidf_vectorizer,\n",
    "    debug=True\n",
    ")\n",
    "\n",
    "print(\"TokenSHAP initialized with phi4-reasoning:latest!\")\n",
    "\n",
    "# Test connection\n",
    "try:\n",
    "    test_response = phi4_model.generate(\"Hello\")\n",
    "    print(f\"Connection successful! Test response: {test_response[:50]}...\")\n",
    "except Exception as e:\n",
    "    print(f\"Connection failed: {e}\")\n",
    "    print(\"Please make sure Ollama is running with: ollama serve\")"
   ]
  },
  {
   "cell_type": "markdown",
   "id": "78477d42",
   "metadata": {},
   "source": []
  },
  {
   "cell_type": "code",
   "execution_count": 6,
   "id": "5ed1a0d1",
   "metadata": {},
   "outputs": [
    {
     "name": "stdout",
     "output_type": "stream",
     "text": [
      "Analyzing with phi4-reasoning: 'Why is the sky blue?'\n",
      "============================================================\n",
      "Number of samples: 5\n",
      "Number of essential combinations: 5\n",
      "Remaining combinations budget after essentials: 995\n",
      "Number of additional combinations to sample: 0\n",
      "No additional combinations to sample.\n",
      "Total combinations to process: 5\n"
     ]
    },
    {
     "data": {
      "application/vnd.jupyter.widget-view+json": {
       "model_id": "618a905b30a648dc89c45b7f0d4f5d4e",
       "version_major": 2,
       "version_minor": 0
      },
      "text/plain": [
       "Processing combinations:   0%|          | 0/5 [00:00<?, ?it/s]"
      ]
     },
     "metadata": {},
     "output_type": "display_data"
    },
    {
     "name": "stdout",
     "output_type": "stream",
     "text": [
      "\n",
      "Processing combination 1/5:\n",
      "Combination: ['is', 'the', 'sky', 'blue?']\n",
      "Indexes: (2, 3, 4, 5)\n",
      "Received response for combination 1\n",
      "\n",
      "Processing combination 2/5:\n",
      "Combination: ['Why', 'the', 'sky', 'blue?']\n",
      "Indexes: (1, 3, 4, 5)\n",
      "Received response for combination 2\n",
      "\n",
      "Processing combination 3/5:\n",
      "Combination: ['Why', 'is', 'sky', 'blue?']\n",
      "Indexes: (1, 2, 4, 5)\n",
      "Received response for combination 3\n",
      "\n",
      "Processing combination 4/5:\n",
      "Combination: ['Why', 'is', 'the', 'blue?']\n",
      "Indexes: (1, 2, 3, 5)\n",
      "Received response for combination 4\n",
      "\n",
      "Processing combination 5/5:\n",
      "Combination: ['Why', 'is', 'the', 'sky']\n",
      "Indexes: (1, 2, 3, 4)\n",
      "Received response for combination 5\n"
     ]
    },
    {
     "name": "stderr",
     "output_type": "stream",
     "text": [
      "[I 2025-09-20 00:14:18,900] A new study created in memory with name: no-name-a453f889-d06b-4f0c-adf6-309b93c091c9\n",
      "[I 2025-09-20 00:14:19,633] Trial 0 finished with value: 0.03438332178920034 and parameters: {'learning_rate': 0.24978574507978035, 'max_depth': 10, 'n_estimators': 147, 'subsample': 0.8193829781650699, 'colsample_bytree': 0.8525686407418122, 'reg_alpha': 0.00030668894262650664, 'reg_lambda': 3.0610542615705447e-06}. Best is trial 0 with value: 0.03438332178920034.\n",
      "[I 2025-09-20 00:14:19,791] Trial 1 finished with value: 0.0701664934429479 and parameters: {'learning_rate': 0.0103446025873483, 'max_depth': 10, 'n_estimators': 411, 'subsample': 0.7274165086615396, 'colsample_bytree': 0.7686351742337799, 'reg_alpha': 7.953904640191629, 'reg_lambda': 1.9676463585966628e-05}. Best is trial 0 with value: 0.03438332178920034.\n",
      "[I 2025-09-20 00:14:19,968] Trial 2 finished with value: 0.04862126210063222 and parameters: {'learning_rate': 0.07602868445600117, 'max_depth': 10, 'n_estimators': 490, 'subsample': 0.697939744018427, 'colsample_bytree': 0.6120268289736303, 'reg_alpha': 0.07293693944364815, 'reg_lambda': 0.0006875169911365009}. Best is trial 0 with value: 0.03438332178920034.\n",
      "[I 2025-09-20 00:15:01,425] Trial 3 finished with value: 0.05642905333369497 and parameters: {'learning_rate': 0.02481251639337273, 'max_depth': 9, 'n_estimators': 355, 'subsample': 0.7169172070653296, 'colsample_bytree': 0.7995269890137429, 'reg_alpha': 4.597570007823547e-07, 'reg_lambda': 0.36073282223908504}. Best is trial 0 with value: 0.03438332178920034.\n",
      "[I 2025-09-20 00:15:01,587] Trial 4 finished with value: 0.05987682440608266 and parameters: {'learning_rate': 0.022343587816437666, 'max_depth': 3, 'n_estimators': 283, 'subsample': 0.9536741984967534, 'colsample_bytree': 0.9255018393363217, 'reg_alpha': 0.00010454679428094945, 'reg_lambda': 0.013265714475999653}. Best is trial 0 with value: 0.03438332178920034.\n",
      "[I 2025-09-20 00:14:20,375] Trial 5 finished with value: 0.06170024969905141 and parameters: {'learning_rate': 0.02314727935486567, 'max_depth': 4, 'n_estimators': 143, 'subsample': 0.7793541379267639, 'colsample_bytree': 0.9498645163450371, 'reg_alpha': 2.4888734710945252e-08, 'reg_lambda': 0.0006551888568064675}. Best is trial 0 with value: 0.03438332178920034.\n",
      "[I 2025-09-20 00:14:20,582] Trial 6 finished with value: 0.056485200909073385 and parameters: {'learning_rate': 0.05551697217561173, 'max_depth': 10, 'n_estimators': 316, 'subsample': 0.7686235968944058, 'colsample_bytree': 0.7744432943519248, 'reg_alpha': 1.6259782847167192e-05, 'reg_lambda': 9.724163990470426}. Best is trial 0 with value: 0.03438332178920034.\n",
      "[I 2025-09-20 00:14:20,724] Trial 7 finished with value: 0.0660289178165746 and parameters: {'learning_rate': 0.033080572377546726, 'max_depth': 3, 'n_estimators': 393, 'subsample': 0.676236985643136, 'colsample_bytree': 0.9622577157567416, 'reg_alpha': 6.174634486196632e-05, 'reg_lambda': 2.3227065870603648e-07}. Best is trial 0 with value: 0.03438332178920034.\n",
      "[I 2025-09-20 00:14:21,282] Trial 8 finished with value: 0.05851110318034414 and parameters: {'learning_rate': 0.05034521997411317, 'max_depth': 7, 'n_estimators': 475, 'subsample': 0.6296170237418981, 'colsample_bytree': 0.7671451290611444, 'reg_alpha': 3.103220036759227e-05, 'reg_lambda': 0.8426198055626981}. Best is trial 0 with value: 0.03438332178920034.\n",
      "[I 2025-09-20 00:14:21,383] Trial 9 finished with value: 0.06088688471644643 and parameters: {'learning_rate': 0.024513701395323398, 'max_depth': 9, 'n_estimators': 100, 'subsample': 0.6737038975641205, 'colsample_bytree': 0.590261167240376, 'reg_alpha': 0.014208705965080838, 'reg_lambda': 8.862000801710531}. Best is trial 0 with value: 0.03438332178920034.\n",
      "[I 2025-09-20 00:14:21,598] Trial 10 finished with value: 0.056039060142929586 and parameters: {'learning_rate': 0.2716363700272005, 'max_depth': 6, 'n_estimators': 212, 'subsample': 0.5372207449102301, 'colsample_bytree': 0.8795375494528634, 'reg_alpha': 0.009446304079769744, 'reg_lambda': 1.2456133490091703e-08}. Best is trial 0 with value: 0.03438332178920034.\n",
      "[I 2025-09-20 00:14:21,818] Trial 11 finished with value: 0.04571356871455434 and parameters: {'learning_rate': 0.2192729529106392, 'max_depth': 8, 'n_estimators': 230, 'subsample': 0.8752902540155673, 'colsample_bytree': 0.6127808000054809, 'reg_alpha': 0.04031742917979794, 'reg_lambda': 2.6452475708473705e-05}. Best is trial 0 with value: 0.03438332178920034.\n",
      "[I 2025-09-20 00:14:21,977] Trial 12 finished with value: 0.0701664934429479 and parameters: {'learning_rate': 0.2732533306120669, 'max_depth': 7, 'n_estimators': 210, 'subsample': 0.8847333000767766, 'colsample_bytree': 0.6654375648943287, 'reg_alpha': 0.8494612966061571, 'reg_lambda': 5.606932031598789e-06}. Best is trial 0 with value: 0.03438332178920034.\n",
      "[I 2025-09-20 00:14:22,094] Trial 13 finished with value: 0.06196239092677358 and parameters: {'learning_rate': 0.1273054539350128, 'max_depth': 8, 'n_estimators': 210, 'subsample': 0.8778849250355465, 'colsample_bytree': 0.5269293888353078, 'reg_alpha': 0.0014503808160129623, 'reg_lambda': 6.13720340717477e-06}. Best is trial 0 with value: 0.03438332178920034.\n",
      "[I 2025-09-20 00:14:22,209] Trial 14 finished with value: 0.0701664934429479 and parameters: {'learning_rate': 0.15751043488902935, 'max_depth': 8, 'n_estimators': 163, 'subsample': 0.8429532603941063, 'colsample_bytree': 0.6914649703098005, 'reg_alpha': 0.25701594470256356, 'reg_lambda': 4.824176387175457e-07}. Best is trial 0 with value: 0.03438332178920034.\n",
      "[I 2025-09-20 00:14:22,335] Trial 15 finished with value: 0.05990275242655996 and parameters: {'learning_rate': 0.15412813018780758, 'max_depth': 5, 'n_estimators': 262, 'subsample': 0.9974329006757877, 'colsample_bytree': 0.852035102375992, 'reg_alpha': 0.0006755215521749222, 'reg_lambda': 7.859131180824266e-05}. Best is trial 0 with value: 0.03438332178920034.\n",
      "[I 2025-09-20 00:14:22,450] Trial 16 finished with value: 0.04322924712031606 and parameters: {'learning_rate': 0.11271207657565407, 'max_depth': 8, 'n_estimators': 161, 'subsample': 0.8331062660709623, 'colsample_bytree': 0.6927409545970974, 'reg_alpha': 2.5354920249729283e-06, 'reg_lambda': 3.476630960211984e-07}. Best is trial 0 with value: 0.03438332178920034.\n",
      "[I 2025-09-20 00:14:22,551] Trial 17 finished with value: 0.04392227032511953 and parameters: {'learning_rate': 0.09794073995706933, 'max_depth': 9, 'n_estimators': 114, 'subsample': 0.8181453835848513, 'colsample_bytree': 0.6947074253656669, 'reg_alpha': 2.183112037194071e-06, 'reg_lambda': 1.1675071022587384e-08}. Best is trial 0 with value: 0.03438332178920034.\n",
      "[I 2025-09-20 00:14:22,651] Trial 18 finished with value: 0.023829604175980124 and parameters: {'learning_rate': 0.17779929820670665, 'max_depth': 6, 'n_estimators': 164, 'subsample': 0.9384221186673586, 'colsample_bytree': 0.8387273382551403, 'reg_alpha': 1.3410666988527375e-07, 'reg_lambda': 3.5832050393111973e-07}. Best is trial 18 with value: 0.023829604175980124.\n",
      "[I 2025-09-20 00:14:22,758] Trial 19 finished with value: 0.024428332832748922 and parameters: {'learning_rate': 0.18547251645213733, 'max_depth': 5, 'n_estimators': 166, 'subsample': 0.9555907281096291, 'colsample_bytree': 0.8519897767505227, 'reg_alpha': 1.484420932770215e-08, 'reg_lambda': 1.3807518812769366e-06}. Best is trial 18 with value: 0.023829604175980124.\n",
      "[I 2025-09-20 00:14:23,710] A new study created in memory with name: no-name-f4963cbe-c704-4e8f-a45f-3178b7ffd92d\n",
      "[I 2025-09-20 00:14:25,853] Trial 0 finished with value: 0.023182536152298483 and parameters: {'learning_rate': 0.010338593772531149, 'max_depth': 10, 'n_estimators': 451, 'subsample': 0.6822637213737566, 'colsample_bytree': 0.5297699615195844, 'reg_alpha': 0.0012252314370839086, 'reg_lambda': 1.2796541776355752e-08}. Best is trial 0 with value: 0.023182536152298483.\n",
      "[I 2025-09-20 00:14:26,011] Trial 1 finished with value: 0.04664042094081167 and parameters: {'learning_rate': 0.013458109578202704, 'max_depth': 9, 'n_estimators': 330, 'subsample': 0.9122924242253142, 'colsample_bytree': 0.6991403636764099, 'reg_alpha': 5.126291897928642e-07, 'reg_lambda': 0.0001377516392044886}. Best is trial 0 with value: 0.023182536152298483.\n",
      "[I 2025-09-20 00:14:26,100] Trial 2 finished with value: 0.0701664934429479 and parameters: {'learning_rate': 0.027645701686400348, 'max_depth': 10, 'n_estimators': 279, 'subsample': 0.751206422529239, 'colsample_bytree': 0.7302491247688414, 'reg_alpha': 4.047507230055219, 'reg_lambda': 2.443083239270153e-06}. Best is trial 0 with value: 0.023182536152298483.\n",
      "[I 2025-09-20 00:14:26,168] Trial 3 finished with value: 0.030338610199387106 and parameters: {'learning_rate': 0.06948446659108574, 'max_depth': 4, 'n_estimators': 118, 'subsample': 0.6307715257893016, 'colsample_bytree': 0.7704068450194215, 'reg_alpha': 0.03601462719001974, 'reg_lambda': 0.1765441038082832}. Best is trial 0 with value: 0.023182536152298483.\n",
      "[I 2025-09-20 00:14:26,268] Trial 4 finished with value: 0.020565475014145407 and parameters: {'learning_rate': 0.014013838386309138, 'max_depth': 8, 'n_estimators': 256, 'subsample': 0.5153443728391053, 'colsample_bytree': 0.5727343309773153, 'reg_alpha': 5.281654183673172e-06, 'reg_lambda': 0.00019721553335831128}. Best is trial 4 with value: 0.020565475014145407.\n",
      "[I 2025-09-20 00:14:26,387] Trial 5 finished with value: 0.02741327383845571 and parameters: {'learning_rate': 0.05688478845586258, 'max_depth': 10, 'n_estimators': 375, 'subsample': 0.5454258993436418, 'colsample_bytree': 0.5566916093374941, 'reg_alpha': 2.965134810592571e-06, 'reg_lambda': 1.4651277996100892e-05}. Best is trial 4 with value: 0.020565475014145407.\n",
      "[I 2025-09-20 00:14:26,501] Trial 6 finished with value: 0.0701664934429479 and parameters: {'learning_rate': 0.023330739282296863, 'max_depth': 3, 'n_estimators': 421, 'subsample': 0.7904438797954942, 'colsample_bytree': 0.921102560040306, 'reg_alpha': 0.20296599305153804, 'reg_lambda': 0.02154038746425932}. Best is trial 4 with value: 0.020565475014145407.\n",
      "[I 2025-09-20 00:14:26,588] Trial 7 finished with value: 0.0701664934429479 and parameters: {'learning_rate': 0.05490068994468866, 'max_depth': 9, 'n_estimators': 301, 'subsample': 0.829276816589538, 'colsample_bytree': 0.9857583622117121, 'reg_alpha': 0.6275906700021633, 'reg_lambda': 0.0005438540848711121}. Best is trial 4 with value: 0.020565475014145407.\n",
      "[I 2025-09-20 00:14:26,689] Trial 8 finished with value: 0.03427096703379873 and parameters: {'learning_rate': 0.017448226087381176, 'max_depth': 4, 'n_estimators': 160, 'subsample': 0.6065838916040585, 'colsample_bytree': 0.672522773669327, 'reg_alpha': 1.7764973807715725e-08, 'reg_lambda': 2.0879733662604434e-08}. Best is trial 4 with value: 0.020565475014145407.\n",
      "[I 2025-09-20 00:14:26,846] Trial 9 finished with value: 0.02708377936213735 and parameters: {'learning_rate': 0.03729001873154017, 'max_depth': 4, 'n_estimators': 261, 'subsample': 0.6050626753078127, 'colsample_bytree': 0.6465388252180025, 'reg_alpha': 0.0034117380000757308, 'reg_lambda': 1.1026400961780343e-06}. Best is trial 4 with value: 0.020565475014145407.\n",
      "[I 2025-09-20 00:14:26,951] Trial 10 finished with value: 0.037962699917252096 and parameters: {'learning_rate': 0.18474163900784174, 'max_depth': 7, 'n_estimators': 208, 'subsample': 0.5026663607518096, 'colsample_bytree': 0.805924287569382, 'reg_alpha': 2.409873047252986e-05, 'reg_lambda': 0.007152398042426611}. Best is trial 4 with value: 0.020565475014145407.\n",
      "[I 2025-09-20 00:14:27,152] Trial 11 finished with value: 0.022562349823410544 and parameters: {'learning_rate': 0.011106749546520658, 'max_depth': 7, 'n_estimators': 490, 'subsample': 0.6804447949080471, 'colsample_bytree': 0.5024325108067403, 'reg_alpha': 0.0003795367208168384, 'reg_lambda': 1.3670580337584345e-07}. Best is trial 4 with value: 0.020565475014145407.\n",
      "[I 2025-09-20 00:14:27,302] Trial 12 finished with value: 0.0353197703632665 and parameters: {'learning_rate': 0.010347676885243046, 'max_depth': 7, 'n_estimators': 484, 'subsample': 0.9860079737671348, 'colsample_bytree': 0.5695015125454166, 'reg_alpha': 3.965677945726299e-05, 'reg_lambda': 1.34699483692314}. Best is trial 4 with value: 0.020565475014145407.\n",
      "[I 2025-09-20 00:14:27,404] Trial 13 finished with value: 0.035416687515671286 and parameters: {'learning_rate': 0.11962495179235227, 'max_depth': 6, 'n_estimators': 214, 'subsample': 0.691940175718744, 'colsample_bytree': 0.5085365045191022, 'reg_alpha': 0.00014061994951752166, 'reg_lambda': 2.5530082435568945e-07}. Best is trial 4 with value: 0.020565475014145407.\n",
      "[I 2025-09-20 00:14:27,538] Trial 14 finished with value: 0.02338298657267812 and parameters: {'learning_rate': 0.017785202207858626, 'max_depth': 6, 'n_estimators': 367, 'subsample': 0.5072440646394721, 'colsample_bytree': 0.6030346916497744, 'reg_alpha': 5.102423051319896e-07, 'reg_lambda': 7.731554353372279e-05}. Best is trial 4 with value: 0.020565475014145407.\n",
      "[I 2025-09-20 00:14:27,690] Trial 15 finished with value: 0.026798571136887106 and parameters: {'learning_rate': 0.03176518406911943, 'max_depth': 8, 'n_estimators': 229, 'subsample': 0.8593916419243071, 'colsample_bytree': 0.6186249004593556, 'reg_alpha': 0.0069189484641603745, 'reg_lambda': 0.002547955756743772}. Best is trial 4 with value: 0.020565475014145407.\n",
      "[I 2025-09-20 00:14:27,941] Trial 16 finished with value: 0.022424186256821188 and parameters: {'learning_rate': 0.019515286603833622, 'max_depth': 8, 'n_estimators': 386, 'subsample': 0.6870847032125068, 'colsample_bytree': 0.5092663730568419, 'reg_alpha': 7.588517779405813e-06, 'reg_lambda': 1.586850522133137e-07}. Best is trial 4 with value: 0.020565475014145407.\n",
      "[I 2025-09-20 00:14:28,485] Trial 17 finished with value: 0.04568543532222036 and parameters: {'learning_rate': 0.01961169529702487, 'max_depth': 8, 'n_estimators': 392, 'subsample': 0.5654010392544632, 'colsample_bytree': 0.8361436495417274, 'reg_alpha': 1.6303320435744354e-08, 'reg_lambda': 7.4702342082336766e-06}. Best is trial 4 with value: 0.020565475014145407.\n",
      "[I 2025-09-20 00:14:28,814] Trial 18 finished with value: 0.025224829700882467 and parameters: {'learning_rate': 0.040926894539719275, 'max_depth': 8, 'n_estimators': 333, 'subsample': 0.7233221050705538, 'colsample_bytree': 0.5965653555231244, 'reg_alpha': 3.6692334535049516e-06, 'reg_lambda': 6.894266149578097}. Best is trial 4 with value: 0.020565475014145407.\n",
      "[I 2025-09-20 00:14:28,925] Trial 19 finished with value: 0.03618475296824697 and parameters: {'learning_rate': 0.07780650549815736, 'max_depth': 9, 'n_estimators': 172, 'subsample': 0.6391731119549615, 'colsample_bytree': 0.55885907658749, 'reg_alpha': 2.489237893816398e-07, 'reg_lambda': 0.05923900746708119}. Best is trial 4 with value: 0.020565475014145407.\n",
      "[I 2025-09-20 00:14:28,930] A new study created in memory with name: no-name-eacb9c39-8393-4179-b105-2b20ce81afcf\n",
      "[I 2025-09-20 00:14:29,091] Trial 0 finished with value: 0.043597723034317526 and parameters: {'learning_rate': 0.032918555730570266, 'max_depth': 9, 'n_estimators': 380, 'subsample': 0.8860922330251246, 'colsample_bytree': 0.8898260718380802, 'reg_alpha': 2.0670453815200095e-07, 'reg_lambda': 2.0748240664757556}. Best is trial 0 with value: 0.043597723034317526.\n",
      "[I 2025-09-20 00:14:29,255] Trial 1 finished with value: 0.0669090996059728 and parameters: {'learning_rate': 0.2085346362339872, 'max_depth': 10, 'n_estimators': 427, 'subsample': 0.875997826891781, 'colsample_bytree': 0.521908858669875, 'reg_alpha': 0.0013334428912349192, 'reg_lambda': 0.012950809446531361}. Best is trial 0 with value: 0.043597723034317526.\n",
      "[I 2025-09-20 00:14:29,358] Trial 2 finished with value: 0.0701664934429479 and parameters: {'learning_rate': 0.1550779842476424, 'max_depth': 5, 'n_estimators': 246, 'subsample': 0.5912174791399238, 'colsample_bytree': 0.8404784253452046, 'reg_alpha': 5.682717345970428, 'reg_lambda': 0.0020605195893365004}. Best is trial 0 with value: 0.043597723034317526.\n",
      "[I 2025-09-20 00:14:29,446] Trial 3 finished with value: 0.05770942070811513 and parameters: {'learning_rate': 0.048233286762834164, 'max_depth': 3, 'n_estimators': 132, 'subsample': 0.9159020068373653, 'colsample_bytree': 0.5763244210469203, 'reg_alpha': 0.0030354110466956747, 'reg_lambda': 3.2833010945439236e-07}. Best is trial 0 with value: 0.043597723034317526.\n",
      "[I 2025-09-20 00:14:29,618] Trial 4 finished with value: 0.07009025910228017 and parameters: {'learning_rate': 0.11330093126627619, 'max_depth': 8, 'n_estimators': 375, 'subsample': 0.8917269111361802, 'colsample_bytree': 0.8614218474650405, 'reg_alpha': 4.698485837076571e-07, 'reg_lambda': 0.002474591487749939}. Best is trial 0 with value: 0.043597723034317526.\n",
      "[I 2025-09-20 00:14:29,777] Trial 5 finished with value: 0.06056817868083242 and parameters: {'learning_rate': 0.12287984579384406, 'max_depth': 6, 'n_estimators': 179, 'subsample': 0.823995372457338, 'colsample_bytree': 0.8046784133538943, 'reg_alpha': 4.390153164301859e-08, 'reg_lambda': 5.412555615280689e-06}. Best is trial 0 with value: 0.043597723034317526.\n",
      "[I 2025-09-20 00:14:29,923] Trial 6 finished with value: 0.06541111567347768 and parameters: {'learning_rate': 0.06388494797080156, 'max_depth': 10, 'n_estimators': 467, 'subsample': 0.716819284525342, 'colsample_bytree': 0.727911816194738, 'reg_alpha': 1.3665159372601333e-07, 'reg_lambda': 2.3512226320701542e-07}. Best is trial 0 with value: 0.043597723034317526.\n",
      "[I 2025-09-20 00:15:11,423] Trial 7 finished with value: 0.06993630030482534 and parameters: {'learning_rate': 0.07700657610742753, 'max_depth': 3, 'n_estimators': 265, 'subsample': 0.8979354287284587, 'colsample_bytree': 0.7646036466379738, 'reg_alpha': 4.449756586169873e-08, 'reg_lambda': 0.0005032083336451791}. Best is trial 0 with value: 0.043597723034317526.\n",
      "[I 2025-09-20 00:15:11,523] Trial 8 finished with value: 0.058173621681625876 and parameters: {'learning_rate': 0.09654785058850983, 'max_depth': 9, 'n_estimators': 121, 'subsample': 0.6022417088942089, 'colsample_bytree': 0.803090296210041, 'reg_alpha': 0.0013788635896408174, 'reg_lambda': 3.032556657136516e-06}. Best is trial 0 with value: 0.043597723034317526.\n",
      "[I 2025-09-20 00:14:30,678] Trial 9 finished with value: 0.0486554751667333 and parameters: {'learning_rate': 0.12538281928934014, 'max_depth': 10, 'n_estimators': 453, 'subsample': 0.6211602461373888, 'colsample_bytree': 0.862907078181498, 'reg_alpha': 0.029096294206012435, 'reg_lambda': 0.003978124335035044}. Best is trial 0 with value: 0.043597723034317526.\n",
      "[I 2025-09-20 00:14:30,943] Trial 10 finished with value: 0.04105463126033071 and parameters: {'learning_rate': 0.0177553045360574, 'max_depth': 8, 'n_estimators': 349, 'subsample': 0.9801247230656911, 'colsample_bytree': 0.9717559447222562, 'reg_alpha': 2.1021105876570668e-05, 'reg_lambda': 9.725736940410926}. Best is trial 10 with value: 0.04105463126033071.\n",
      "[I 2025-09-20 00:14:31,104] Trial 11 finished with value: 0.04185816147654775 and parameters: {'learning_rate': 0.017183757092320454, 'max_depth': 8, 'n_estimators': 336, 'subsample': 0.7796735954931484, 'colsample_bytree': 0.997523473651168, 'reg_alpha': 1.3581978101267298e-05, 'reg_lambda': 7.814618191107455}. Best is trial 10 with value: 0.04105463126033071.\n",
      "[I 2025-09-20 00:14:31,238] Trial 12 finished with value: 0.04414584734767202 and parameters: {'learning_rate': 0.010636375294780941, 'max_depth': 7, 'n_estimators': 331, 'subsample': 0.9864878948831752, 'colsample_bytree': 0.9922938748852638, 'reg_alpha': 1.825629178554009e-05, 'reg_lambda': 4.931644490897721}. Best is trial 10 with value: 0.04105463126033071.\n",
      "[I 2025-09-20 00:14:31,402] Trial 13 finished with value: 0.04868438341944936 and parameters: {'learning_rate': 0.01687517395585352, 'max_depth': 7, 'n_estimators': 330, 'subsample': 0.7140654034248116, 'colsample_bytree': 0.9950817068919382, 'reg_alpha': 1.2763599974395377e-05, 'reg_lambda': 0.2260151307570583}. Best is trial 10 with value: 0.04105463126033071.\n",
      "[I 2025-09-20 00:14:31,535] Trial 14 finished with value: 0.062442983177597555 and parameters: {'learning_rate': 0.022437605644623687, 'max_depth': 8, 'n_estimators': 269, 'subsample': 0.9997269220702247, 'colsample_bytree': 0.9254586912464927, 'reg_alpha': 1.4163632262231314e-05, 'reg_lambda': 0.1116967892643685}. Best is trial 10 with value: 0.04105463126033071.\n",
      "[I 2025-09-20 00:14:31,665] Trial 15 finished with value: 0.05105068781703237 and parameters: {'learning_rate': 0.010086922753225055, 'max_depth': 5, 'n_estimators': 395, 'subsample': 0.5050827992838521, 'colsample_bytree': 0.6932839868610963, 'reg_alpha': 0.00010586640039249338, 'reg_lambda': 0.48111897917911034}. Best is trial 10 with value: 0.04105463126033071.\n",
      "[I 2025-09-20 00:14:31,752] Trial 16 finished with value: 0.043152774361069235 and parameters: {'learning_rate': 0.018737238829457124, 'max_depth': 8, 'n_estimators': 215, 'subsample': 0.7958048476874064, 'colsample_bytree': 0.9387229726231271, 'reg_alpha': 1.8320021237356741e-06, 'reg_lambda': 7.157960135478857}. Best is trial 10 with value: 0.04105463126033071.\n",
      "[I 2025-09-20 00:14:31,859] Trial 17 finished with value: 0.047729517010147604 and parameters: {'learning_rate': 0.03233162199828408, 'max_depth': 6, 'n_estimators': 312, 'subsample': 0.7634579141151423, 'colsample_bytree': 0.6492715116705388, 'reg_alpha': 0.06241096272278557, 'reg_lambda': 0.07058665314841753}. Best is trial 10 with value: 0.04105463126033071.\n",
      "[I 2025-09-20 00:14:31,998] Trial 18 finished with value: 0.05204668143122915 and parameters: {'learning_rate': 0.015282052113761014, 'max_depth': 9, 'n_estimators': 354, 'subsample': 0.6834676702241381, 'colsample_bytree': 0.9400827333301816, 'reg_alpha': 0.00012080739640782456, 'reg_lambda': 2.1646690054810492e-08}. Best is trial 10 with value: 0.04105463126033071.\n",
      "[I 2025-09-20 00:14:32,135] Trial 19 finished with value: 0.05597760775416616 and parameters: {'learning_rate': 0.029830778987344268, 'max_depth': 7, 'n_estimators': 419, 'subsample': 0.8267225107037999, 'colsample_bytree': 0.9969403287409166, 'reg_alpha': 2.755134437696789e-06, 'reg_lambda': 0.00018171752831270329}. Best is trial 10 with value: 0.04105463126033071.\n",
      "[I 2025-09-20 00:14:32,138] A new study created in memory with name: no-name-e50cdd54-341d-45f8-9286-48d314344874\n",
      "[I 2025-09-20 00:14:32,275] Trial 0 finished with value: 0.021021569755966696 and parameters: {'learning_rate': 0.04636230439158195, 'max_depth': 6, 'n_estimators': 367, 'subsample': 0.8604385707073025, 'colsample_bytree': 0.6210165882416196, 'reg_alpha': 0.0009705011866983555, 'reg_lambda': 6.522339327600611e-07}. Best is trial 0 with value: 0.021021569755966696.\n",
      "[I 2025-09-20 00:14:32,412] Trial 1 finished with value: 0.04091444113581899 and parameters: {'learning_rate': 0.054067548784922696, 'max_depth': 4, 'n_estimators': 184, 'subsample': 0.9532274765528307, 'colsample_bytree': 0.9782844275342328, 'reg_alpha': 0.09967611376050839, 'reg_lambda': 8.61399382195109e-07}. Best is trial 0 with value: 0.021021569755966696.\n",
      "[I 2025-09-20 00:14:32,719] Trial 2 finished with value: 0.03263142206996206 and parameters: {'learning_rate': 0.010296199023175403, 'max_depth': 6, 'n_estimators': 290, 'subsample': 0.5521676424571857, 'colsample_bytree': 0.6051730039930083, 'reg_alpha': 1.6388878618738487e-06, 'reg_lambda': 3.451864747550244e-05}. Best is trial 0 with value: 0.021021569755966696.\n",
      "[I 2025-09-20 00:14:32,829] Trial 3 finished with value: 0.0701664934429479 and parameters: {'learning_rate': 0.058631928384951904, 'max_depth': 6, 'n_estimators': 285, 'subsample': 0.9702893592957869, 'colsample_bytree': 0.9752431847928511, 'reg_alpha': 0.26798544746198166, 'reg_lambda': 3.5496569914552685e-08}. Best is trial 0 with value: 0.021021569755966696.\n",
      "[I 2025-09-20 00:14:32,934] Trial 4 finished with value: 0.03544827797740224 and parameters: {'learning_rate': 0.09136907965857696, 'max_depth': 5, 'n_estimators': 275, 'subsample': 0.872542198448454, 'colsample_bytree': 0.7546192468429114, 'reg_alpha': 9.692168263584385e-08, 'reg_lambda': 2.7332071793274217e-06}. Best is trial 0 with value: 0.021021569755966696.\n",
      "[I 2025-09-20 00:14:33,270] Trial 5 finished with value: 0.0701664934429479 and parameters: {'learning_rate': 0.24891373853166984, 'max_depth': 9, 'n_estimators': 474, 'subsample': 0.7730690943429106, 'colsample_bytree': 0.7148013455355333, 'reg_alpha': 0.35407886839890856, 'reg_lambda': 0.07028083537759085}. Best is trial 0 with value: 0.021021569755966696.\n",
      "[I 2025-09-20 00:14:33,378] Trial 6 finished with value: 0.052398170021469626 and parameters: {'learning_rate': 0.013534699859583348, 'max_depth': 4, 'n_estimators': 216, 'subsample': 0.921713698907199, 'colsample_bytree': 0.9952538214266227, 'reg_alpha': 0.00012294597729456595, 'reg_lambda': 3.550315878021518e-08}. Best is trial 0 with value: 0.021021569755966696.\n",
      "[I 2025-09-20 00:14:33,535] Trial 7 finished with value: 0.05516990521281484 and parameters: {'learning_rate': 0.02387458389655371, 'max_depth': 10, 'n_estimators': 110, 'subsample': 0.6578451142207954, 'colsample_bytree': 0.5971079362756828, 'reg_alpha': 0.10126581247218634, 'reg_lambda': 6.04294103031033e-06}. Best is trial 0 with value: 0.021021569755966696.\n",
      "[I 2025-09-20 00:14:33,754] Trial 8 finished with value: 0.03798052170603994 and parameters: {'learning_rate': 0.011851149886694608, 'max_depth': 10, 'n_estimators': 177, 'subsample': 0.6049995326163824, 'colsample_bytree': 0.8721016916423817, 'reg_alpha': 3.7310808056440704e-08, 'reg_lambda': 0.039030913954364026}. Best is trial 0 with value: 0.021021569755966696.\n",
      "[I 2025-09-20 00:14:33,927] Trial 9 finished with value: 0.022461319950516256 and parameters: {'learning_rate': 0.058864370357077624, 'max_depth': 6, 'n_estimators': 452, 'subsample': 0.7947184998785629, 'colsample_bytree': 0.5002151329378213, 'reg_alpha': 7.440002945526457e-05, 'reg_lambda': 1.0231630427201384e-08}. Best is trial 0 with value: 0.021021569755966696.\n",
      "[I 2025-09-20 00:14:34,062] Trial 10 finished with value: 0.03321936228602651 and parameters: {'learning_rate': 0.17166477050593773, 'max_depth': 8, 'n_estimators': 385, 'subsample': 0.8435290035931615, 'colsample_bytree': 0.7320210192035963, 'reg_alpha': 0.0021351715517714765, 'reg_lambda': 0.0011232714033837653}. Best is trial 0 with value: 0.021021569755966696.\n",
      "[I 2025-09-20 00:14:34,305] Trial 11 finished with value: 0.03219136097758535 and parameters: {'learning_rate': 0.03309820829484404, 'max_depth': 7, 'n_estimators': 409, 'subsample': 0.7404031070247205, 'colsample_bytree': 0.5053985706357139, 'reg_alpha': 5.867534968341139e-05, 'reg_lambda': 2.0318791157296984e-08}. Best is trial 0 with value: 0.021021569755966696.\n",
      "[I 2025-09-20 00:14:34,461] Trial 12 finished with value: 0.019275988129074606 and parameters: {'learning_rate': 0.09378986638445413, 'max_depth': 3, 'n_estimators': 394, 'subsample': 0.7795460503803004, 'colsample_bytree': 0.503575414598493, 'reg_alpha': 0.0005529500995989692, 'reg_lambda': 3.61038164372306e-07}. Best is trial 12 with value: 0.019275988129074606.\n",
      "[I 2025-09-20 00:14:35,458] Trial 13 finished with value: 0.02568581202357534 and parameters: {'learning_rate': 0.1212157120110588, 'max_depth': 3, 'n_estimators': 344, 'subsample': 0.6902775519892536, 'colsample_bytree': 0.6029644332352567, 'reg_alpha': 0.0036505831635527605, 'reg_lambda': 0.0007562746277662548}. Best is trial 12 with value: 0.019275988129074606.\n",
      "[I 2025-09-20 00:14:35,608] Trial 14 finished with value: 0.02712437012522939 and parameters: {'learning_rate': 0.0379706877286989, 'max_depth': 3, 'n_estimators': 362, 'subsample': 0.8626352450699866, 'colsample_bytree': 0.6538703043442171, 'reg_alpha': 4.6889028136533e-06, 'reg_lambda': 7.984825908468401}. Best is trial 12 with value: 0.019275988129074606.\n",
      "[I 2025-09-20 00:14:35,726] Trial 15 finished with value: 0.020081127670700583 and parameters: {'learning_rate': 0.09246776505647825, 'max_depth': 8, 'n_estimators': 430, 'subsample': 0.7157633884510998, 'colsample_bytree': 0.558887900668115, 'reg_alpha': 0.007620766668941952, 'reg_lambda': 3.8923302627721606e-07}. Best is trial 12 with value: 0.019275988129074606.\n",
      "[I 2025-09-20 00:14:35,875] Trial 16 finished with value: 0.02750130989878896 and parameters: {'learning_rate': 0.10101693172817912, 'max_depth': 8, 'n_estimators': 500, 'subsample': 0.6861061716806703, 'colsample_bytree': 0.5470828937558136, 'reg_alpha': 0.006158898309600332, 'reg_lambda': 4.957657985862459e-05}. Best is trial 12 with value: 0.019275988129074606.\n",
      "[I 2025-09-20 00:14:36,003] Trial 17 finished with value: 0.0701664934429479 and parameters: {'learning_rate': 0.1611022867160589, 'max_depth': 8, 'n_estimators': 430, 'subsample': 0.7301688583691993, 'colsample_bytree': 0.8169646371463816, 'reg_alpha': 8.406937198017433, 'reg_lambda': 1.869898539716548e-07}. Best is trial 12 with value: 0.019275988129074606.\n",
      "[I 2025-09-20 00:14:36,148] Trial 18 finished with value: 0.030806327846939596 and parameters: {'learning_rate': 0.08203786044124875, 'max_depth': 7, 'n_estimators': 328, 'subsample': 0.6240153591677693, 'colsample_bytree': 0.5506866528897839, 'reg_alpha': 6.4986097527520405e-06, 'reg_lambda': 2.414499796915906e-05}. Best is trial 12 with value: 0.019275988129074606.\n",
      "[I 2025-09-20 00:14:36,293] Trial 19 finished with value: 0.024322296169693502 and parameters: {'learning_rate': 0.21890822431443263, 'max_depth': 9, 'n_estimators': 416, 'subsample': 0.5327054746267593, 'colsample_bytree': 0.6898573914678594, 'reg_alpha': 0.020809855459656364, 'reg_lambda': 1.706491390344705e-07}. Best is trial 12 with value: 0.019275988129074606.\n"
     ]
    },
    {
     "name": "stdout",
     "output_type": "stream",
     "text": [
      "\u001b[48;2;255;255;252mWhy\u001b[0m \u001b[48;2;255;255;254mis\u001b[0m \u001b[48;2;255;255;255mthe\u001b[0m \u001b[48;2;255;255;0msky\u001b[0m \u001b[48;2;255;255;245mblue?\u001b[0m \n",
      "\n",
      "Analysis Results:\n",
      "\u001b[38;2;106;106;255mWhy\u001b[0m \u001b[38;2;35;35;255mis\u001b[0m \u001b[38;2;0;0;255mthe\u001b[0m \u001b[38;2;255;0;0msky\u001b[0m \u001b[38;2;168;168;255mblue?\u001b[0m \n"
     ]
    }
   ],
   "source": [
    "prompt1 = \"Why is the sky blue?\"\n",
    "\n",
    "print(f\"Analyzing with phi4-reasoning: '{prompt1}'\")\n",
    "print(\"=\"*60)\n",
    "\n",
    "# Perform TokenSHAP analysis\n",
    "df_phi4 = token_shap_phi4.analyze(\n",
    "    prompt1, \n",
    "    sampling_ratio=0.0,  # Use only essential combinations for faster execution\n",
    "    print_highlight_text=True\n",
    ")\n",
    "\n",
    "# Display results\n",
    "print(\"\\nAnalysis Results:\")\n",
    "token_shap_phi4.print_colored_text()"
   ]
  }
 ],
 "metadata": {
  "kernelspec": {
   "display_name": "tokenshap",
   "language": "python",
   "name": "python3"
  },
  "language_info": {
   "codemirror_mode": {
    "name": "ipython",
    "version": 3
   },
   "file_extension": ".py",
   "mimetype": "text/x-python",
   "name": "python",
   "nbconvert_exporter": "python",
   "pygments_lexer": "ipython3",
   "version": "3.12.3"
  }
 },
 "nbformat": 4,
 "nbformat_minor": 5
}
