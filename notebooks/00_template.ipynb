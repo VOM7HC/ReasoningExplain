{
 "cells": [
  {
   "cell_type": "markdown",
   "metadata": {},
   "source": [
    "# Notebook: Overview\n",
    "\n",
    "Summary: Describe purpose and key results.\\n\n",
    "Inputs: List data sources and parameters.\\n\n",
    "Outputs: Figures/tables produced and where saved."
   ]
  },
  {
   "cell_type": "code",
   "execution_count": null,
   "metadata": {},
   "outputs": [],
   "source": [
    "import sys\n",
    "import os\n",
    "\n",
    "parent_dir = os.path.abspath(os.path.join(os.getcwd(), '..'))\n",
    "if parent_dir not in sys.path:\n",
    "    sys.path.insert(0, parent_dir)\n",
    "\n",
    "reasoning_explain = os.path.join(parent_dir, 'src')\n",
    "if reasoning_explain not in sys.path:\n",
    "    sys.path.insert(0, reasoning_explain)\n",
    "\n",
    "from core import Explainer\n",
    "Explainer().explain(\"demo\")\n",
    "\n",
    "from base import OllamaModel, TfidfTextVectorizer\n",
    "from token_shap import StringSplitter, TokenSHAP"
   ]
  },
  {
   "cell_type": "markdown",
   "id": "d9a7d722",
   "metadata": {},
   "source": []
  },
  {
   "cell_type": "code",
   "execution_count": 15,
   "id": "4285f944",
   "metadata": {},
   "outputs": [
    {
     "name": "stdout",
     "output_type": "stream",
     "text": [
      "TokenSHAP initialized with phi4-reasoning:latest!\n",
      "Connection successful! Test response: <think>User says \"Hello\" and nothing else.\n",
      "\n",
      "Let's ...\n"
     ]
    }
   ],
   "source": [
    "# Force reload the base module to get the latest changes\n",
    "import importlib\n",
    "if 'base' in sys.modules:\n",
    "    importlib.reload(sys.modules['base'])\n",
    "\n",
    "# Initialize phi4-reasoning model with Ollama\n",
    "phi4_model = OllamaModel(\n",
    "    model_name=\"phi4-reasoning:latest\", \n",
    "    api_url=\"http://127.0.0.1:11434\"\n",
    ")\n",
    "\n",
    "# Use TF-IDF vectorizer (no external API needed)\n",
    "tfidf_vectorizer = TfidfTextVectorizer()\n",
    "\n",
    "# String splitter for word-level analysis\n",
    "splitter = StringSplitter()\n",
    "\n",
    "# Create TokenSHAP instance\n",
    "token_shap_phi4 = TokenSHAP(\n",
    "    model=phi4_model, \n",
    "    splitter=splitter, \n",
    "    vectorizer=tfidf_vectorizer,\n",
    "    debug=True\n",
    ")\n",
    "\n",
    "print(\"TokenSHAP initialized with phi4-reasoning:latest!\")\n",
    "\n",
    "# Test connection\n",
    "try:\n",
    "    test_response = phi4_model.generate(\"Hello\")\n",
    "    print(f\"Connection successful! Test response: {test_response[:50]}...\")\n",
    "except Exception as e:\n",
    "    print(f\"Connection failed: {e}\")\n",
    "    print(\"Please make sure Ollama is running with: ollama serve\")"
   ]
  },
  {
   "cell_type": "markdown",
   "id": "78477d42",
   "metadata": {},
   "source": []
  },
  {
   "cell_type": "code",
   "execution_count": 16,
   "id": "5ed1a0d1",
   "metadata": {},
   "outputs": [
    {
     "name": "stdout",
     "output_type": "stream",
     "text": [
      "Analyzing with phi4-reasoning: 'Why is the sky blue?'\n",
      "============================================================\n",
      "Number of samples: 5\n",
      "Number of essential combinations: 5\n",
      "Remaining combinations budget after essentials: 995\n",
      "Number of additional combinations to sample: 0\n",
      "No additional combinations to sample.\n",
      "Total combinations to process: 5\n"
     ]
    },
    {
     "data": {
      "application/vnd.jupyter.widget-view+json": {
       "model_id": "743b62b79c984e21960622c709f45cfc",
       "version_major": 2,
       "version_minor": 0
      },
      "text/plain": [
       "Processing combinations:   0%|          | 0/5 [00:00<?, ?it/s]"
      ]
     },
     "metadata": {},
     "output_type": "display_data"
    },
    {
     "name": "stdout",
     "output_type": "stream",
     "text": [
      "\n",
      "Processing combination 1/5:\n",
      "Combination: ['is', 'the', 'sky', 'blue?']\n",
      "Indexes: (2, 3, 4, 5)\n",
      "Received response for combination 1\n",
      "\n",
      "Processing combination 2/5:\n",
      "Combination: ['Why', 'the', 'sky', 'blue?']\n",
      "Indexes: (1, 3, 4, 5)\n",
      "Received response for combination 2\n",
      "\n",
      "Processing combination 3/5:\n",
      "Combination: ['Why', 'is', 'sky', 'blue?']\n",
      "Indexes: (1, 2, 4, 5)\n",
      "Received response for combination 3\n",
      "\n",
      "Processing combination 4/5:\n",
      "Combination: ['Why', 'is', 'the', 'blue?']\n",
      "Indexes: (1, 2, 3, 5)\n",
      "Received response for combination 4\n",
      "\n",
      "Processing combination 5/5:\n",
      "Combination: ['Why', 'is', 'the', 'sky']\n",
      "Indexes: (1, 2, 3, 4)\n",
      "Received response for combination 5\n",
      "\u001b[48;2;255;255;33mWhy\u001b[0m \u001b[48;2;255;255;236mis\u001b[0m \u001b[48;2;255;255;253mthe\u001b[0m \u001b[48;2;255;255;0msky\u001b[0m \u001b[48;2;255;255;255mblue?\u001b[0m \n",
      "\n",
      "Analysis Results:\n",
      "\u001b[38;2;255;23;23mWhy\u001b[0m \u001b[38;2;213;213;255mis\u001b[0m \u001b[38;2;83;83;255mthe\u001b[0m \u001b[38;2;255;0;0msky\u001b[0m \u001b[38;2;0;0;255mblue?\u001b[0m \n"
     ]
    }
   ],
   "source": [
    "prompt1 = \"Why is the sky blue?\"\n",
    "\n",
    "print(f\"Analyzing with phi4-reasoning: '{prompt1}'\")\n",
    "print(\"=\"*60)\n",
    "\n",
    "# Perform TokenSHAP analysis\n",
    "df_phi4 = token_shap_phi4.analyze(\n",
    "    prompt1, \n",
    "    sampling_ratio=0.0,  # Use only essential combinations for faster execution\n",
    "    print_highlight_text=True\n",
    ")\n",
    "\n",
    "# Display results\n",
    "print(\"\\nAnalysis Results:\")\n",
    "token_shap_phi4.print_colored_text()"
   ]
  }
 ],
 "metadata": {
  "kernelspec": {
   "display_name": "tokenshap",
   "language": "python",
   "name": "python3"
  },
  "language_info": {
   "codemirror_mode": {
    "name": "ipython",
    "version": 3
   },
   "file_extension": ".py",
   "mimetype": "text/x-python",
   "name": "python",
   "nbconvert_exporter": "python",
   "pygments_lexer": "ipython3",
   "version": "3.12.3"
  }
 },
 "nbformat": 4,
 "nbformat_minor": 5
}
