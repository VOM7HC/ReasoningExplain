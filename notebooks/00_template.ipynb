{
 "cells": [
  {
   "cell_type": "markdown",
   "metadata": {},
   "source": [
    "# Notebook: Overview\n",
    "\n",
    "Summary: Describe purpose and key results.\\n\n",
    "Inputs: List data sources and parameters.\\n\n",
    "Outputs: Figures/tables produced and where saved."
   ]
  },
  {
   "cell_type": "code",
   "execution_count": 1,
   "metadata": {},
   "outputs": [],
   "source": [
    "import sys\n",
    "import os\n",
    "\n",
    "parent_dir = os.path.abspath(os.path.join(os.getcwd(), '..'))\n",
    "if parent_dir not in sys.path:\n",
    "    sys.path.insert(0, parent_dir)\n",
    "\n",
    "reasoning_explain = os.path.join(parent_dir, 'src')\n",
    "if reasoning_explain not in sys.path:\n",
    "    sys.path.insert(0, reasoning_explain)\n",
    "\n",
    "from core import Explainer\n",
    "Explainer().explain(\"demo\")\n",
    "\n",
    "from base import OllamaModel, TfidfTextVectorizer\n",
    "from token_shap import StringSplitter, TokenSHAP"
   ]
  },
  {
   "cell_type": "markdown",
   "id": "d9a7d722",
   "metadata": {},
   "source": []
  },
  {
   "cell_type": "code",
   "execution_count": 2,
   "id": "4285f944",
   "metadata": {},
   "outputs": [
    {
     "name": "stdout",
     "output_type": "stream",
     "text": [
      "TokenSHAP initialized with phi4-reasoning:latest!\n",
      "Connection successful! Test response: <think>User says \"Hello\". We are Phi, a language m...\n"
     ]
    }
   ],
   "source": [
    "# Force reload the base module to get the latest changes\n",
    "import importlib\n",
    "if 'base' in sys.modules:\n",
    "    importlib.reload(sys.modules['base'])\n",
    "\n",
    "# Initialize phi4-reasoning model with Ollama\n",
    "phi4_model = OllamaModel(\n",
    "    model_name=\"phi4-reasoning:latest\", \n",
    "    api_url=\"http://127.0.0.1:11434\"\n",
    ")\n",
    "\n",
    "# Use TF-IDF vectorizer (no external API needed)\n",
    "tfidf_vectorizer = TfidfTextVectorizer()\n",
    "\n",
    "# String splitter for word-level analysis\n",
    "splitter = StringSplitter()\n",
    "\n",
    "# Create TokenSHAP instance\n",
    "token_shap_phi4 = TokenSHAP(\n",
    "    model=phi4_model, \n",
    "    splitter=splitter, \n",
    "    vectorizer=tfidf_vectorizer,\n",
    "    debug=True\n",
    ")\n",
    "\n",
    "print(\"TokenSHAP initialized with phi4-reasoning:latest!\")\n",
    "\n",
    "# Test connection\n",
    "try:\n",
    "    test_response = phi4_model.generate(\"Hello\")\n",
    "    print(f\"Connection successful! Test response: {test_response[:50]}...\")\n",
    "except Exception as e:\n",
    "    print(f\"Connection failed: {e}\")\n",
    "    print(\"Please make sure Ollama is running with: ollama serve\")"
   ]
  },
  {
   "cell_type": "markdown",
   "id": "78477d42",
   "metadata": {},
   "source": []
  },
  {
   "cell_type": "code",
   "execution_count": 3,
   "id": "5ed1a0d1",
   "metadata": {},
   "outputs": [
    {
     "name": "stdout",
     "output_type": "stream",
     "text": [
      "Analyzing with phi4-reasoning: 'Why is the sky blue?'\n",
      "============================================================\n",
      "Number of samples: 5\n",
      "Number of essential combinations: 5\n",
      "Remaining combinations budget after essentials: 995\n",
      "Number of additional combinations to sample: 0\n",
      "No additional combinations to sample.\n",
      "Total combinations to process: 5\n"
     ]
    },
    {
     "data": {
      "application/vnd.jupyter.widget-view+json": {
       "model_id": "f46c36874ecf4514bf8d8c1c38be7f04",
       "version_major": 2,
       "version_minor": 0
      },
      "text/plain": [
       "Processing combinations:   0%|          | 0/5 [00:00<?, ?it/s]"
      ]
     },
     "metadata": {},
     "output_type": "display_data"
    },
    {
     "name": "stdout",
     "output_type": "stream",
     "text": [
      "\n",
      "Processing combination 1/5:\n",
      "Combination: ['is', 'the', 'sky', 'blue?']\n",
      "Indexes: (2, 3, 4, 5)\n",
      "Received response for combination 1\n",
      "\n",
      "Processing combination 2/5:\n",
      "Combination: ['Why', 'the', 'sky', 'blue?']\n",
      "Indexes: (1, 3, 4, 5)\n",
      "Received response for combination 2\n",
      "\n",
      "Processing combination 3/5:\n",
      "Combination: ['Why', 'is', 'sky', 'blue?']\n",
      "Indexes: (1, 2, 4, 5)\n",
      "Received response for combination 3\n",
      "\n",
      "Processing combination 4/5:\n",
      "Combination: ['Why', 'is', 'the', 'blue?']\n",
      "Indexes: (1, 2, 3, 5)\n",
      "Received response for combination 4\n",
      "\n",
      "Processing combination 5/5:\n",
      "Combination: ['Why', 'is', 'the', 'sky']\n",
      "Indexes: (1, 2, 3, 4)\n",
      "Received response for combination 5\n"
     ]
    },
    {
     "name": "stderr",
     "output_type": "stream",
     "text": [
      "/home/khoi/anaconda3/envs/tokenshap/lib/python3.12/site-packages/xgboost/core.py:377: FutureWarning: Your system has an old version of glibc (< 2.28). We will stop supporting Linux distros with glibc older than 2.28 after **May 31, 2025**. Please upgrade to a recent Linux distro (with glibc >= 2.28) to use future versions of XGBoost.\n",
      "Note: You have installed the 'manylinux2014' variant of XGBoost. Certain features such as GPU algorithms or federated learning are not available. To use these features, please upgrade to a recent Linux distro with glibc 2.28+, and install the 'manylinux_2_28' variant.\n",
      "  warnings.warn(\n",
      "[I 2025-09-20 00:02:50,432] A new study created in memory with name: no-name-45e1b7ba-d772-4039-929b-be466ed34af5\n",
      "[I 2025-09-20 00:02:09,430] Trial 0 finished with value: 0.1943559305026612 and parameters: {'learning_rate': 0.021499452773253044, 'max_depth': 10, 'n_estimators': 471, 'subsample': 0.9902229331840484, 'colsample_bytree': 0.8493031970411306, 'reg_alpha': 4.879562966450237e-07, 'reg_lambda': 5.214961840969713e-06}. Best is trial 0 with value: 0.1943559305026612.\n",
      "[I 2025-09-20 00:02:09,570] Trial 1 finished with value: 0.17128350895191047 and parameters: {'learning_rate': 0.011562513624454158, 'max_depth': 4, 'n_estimators': 480, 'subsample': 0.9249328154566878, 'colsample_bytree': 0.7454025045579756, 'reg_alpha': 0.026424655050121194, 'reg_lambda': 0.00017059207276394128}. Best is trial 1 with value: 0.17128350895191047.\n",
      "[I 2025-09-20 00:02:09,684] Trial 2 finished with value: 0.1870638982608399 and parameters: {'learning_rate': 0.04769581002482944, 'max_depth': 5, 'n_estimators': 442, 'subsample': 0.7351282968279764, 'colsample_bytree': 0.9319955075864557, 'reg_alpha': 6.703993888637439e-06, 'reg_lambda': 3.1355444165647915e-08}. Best is trial 1 with value: 0.17128350895191047.\n",
      "[I 2025-09-20 00:02:09,742] Trial 3 finished with value: 0.210022117312201 and parameters: {'learning_rate': 0.19504190421626194, 'max_depth': 6, 'n_estimators': 112, 'subsample': 0.5407841883345678, 'colsample_bytree': 0.8403139827272966, 'reg_alpha': 5.7878279913022105e-08, 'reg_lambda': 2.2073248756620993e-08}. Best is trial 1 with value: 0.17128350895191047.\n",
      "[I 2025-09-20 00:02:09,796] Trial 4 finished with value: 0.18716313999439094 and parameters: {'learning_rate': 0.09483936581265093, 'max_depth': 9, 'n_estimators': 162, 'subsample': 0.9843186878919141, 'colsample_bytree': 0.8355549509473417, 'reg_alpha': 0.5220213977162538, 'reg_lambda': 0.011593435490630204}. Best is trial 1 with value: 0.17128350895191047.\n",
      "[I 2025-09-20 00:02:09,988] Trial 5 finished with value: 0.1913693205669007 and parameters: {'learning_rate': 0.011159255752980818, 'max_depth': 6, 'n_estimators': 360, 'subsample': 0.5175184396941411, 'colsample_bytree': 0.7251033928419477, 'reg_alpha': 0.0020379734640403693, 'reg_lambda': 0.040052908736853694}. Best is trial 1 with value: 0.17128350895191047.\n",
      "[I 2025-09-20 00:02:10,140] Trial 6 finished with value: 0.12254622143054816 and parameters: {'learning_rate': 0.16480266211889977, 'max_depth': 3, 'n_estimators': 250, 'subsample': 0.8270636840246163, 'colsample_bytree': 0.7752355679415084, 'reg_alpha': 5.471065492633326e-08, 'reg_lambda': 0.00039211587741648453}. Best is trial 6 with value: 0.12254622143054816.\n",
      "[I 2025-09-20 00:02:10,359] Trial 7 finished with value: 0.1765539900615296 and parameters: {'learning_rate': 0.05891920532350904, 'max_depth': 9, 'n_estimators': 137, 'subsample': 0.7340278745148596, 'colsample_bytree': 0.8825351035069321, 'reg_alpha': 4.2490134171662185e-06, 'reg_lambda': 0.47210199041015216}. Best is trial 6 with value: 0.12254622143054816.\n",
      "[I 2025-09-20 00:02:10,498] Trial 8 finished with value: 0.19191881578708503 and parameters: {'learning_rate': 0.19042193577034822, 'max_depth': 7, 'n_estimators': 373, 'subsample': 0.573107181567993, 'colsample_bytree': 0.9028954002640253, 'reg_alpha': 7.654990315493508e-08, 'reg_lambda': 9.031741571576157}. Best is trial 6 with value: 0.12254622143054816.\n",
      "[I 2025-09-20 00:02:10,708] Trial 9 finished with value: 0.1702279106929383 and parameters: {'learning_rate': 0.058217802969332905, 'max_depth': 5, 'n_estimators': 367, 'subsample': 0.5834627650060286, 'colsample_bytree': 0.5307084022825079, 'reg_alpha': 0.0048675659396834985, 'reg_lambda': 0.0038214178146209255}. Best is trial 6 with value: 0.12254622143054816.\n",
      "[I 2025-09-20 00:02:10,803] Trial 10 finished with value: 0.1244052903010926 and parameters: {'learning_rate': 0.25956873798121427, 'max_depth': 3, 'n_estimators': 222, 'subsample': 0.8414532387217089, 'colsample_bytree': 0.6071452217419572, 'reg_alpha': 0.00010631059609049432, 'reg_lambda': 1.5394752456252555e-05}. Best is trial 6 with value: 0.12254622143054816.\n",
      "[I 2025-09-20 00:02:10,906] Trial 11 finished with value: 0.12462558906818244 and parameters: {'learning_rate': 0.2599637819569425, 'max_depth': 3, 'n_estimators': 234, 'subsample': 0.8419295476542416, 'colsample_bytree': 0.6230781946807635, 'reg_alpha': 4.963624684515695e-05, 'reg_lambda': 1.6842039996163122e-05}. Best is trial 6 with value: 0.12254622143054816.\n",
      "[I 2025-09-20 00:02:11,000] Trial 12 finished with value: 0.18716313999439094 and parameters: {'learning_rate': 0.11512673475196261, 'max_depth': 3, 'n_estimators': 252, 'subsample': 0.8314082278147514, 'colsample_bytree': 0.6487411954282679, 'reg_alpha': 4.9152062521039595, 'reg_lambda': 1.7357392654477719e-06}. Best is trial 6 with value: 0.12254622143054816.\n",
      "[I 2025-09-20 00:02:11,091] Trial 13 finished with value: 0.18268253963733527 and parameters: {'learning_rate': 0.27116486939685397, 'max_depth': 3, 'n_estimators': 210, 'subsample': 0.8290378236017266, 'colsample_bytree': 0.9969757296063815, 'reg_alpha': 0.0001160808562688053, 'reg_lambda': 0.00046022264366114043}. Best is trial 6 with value: 0.12254622143054816.\n",
      "[I 2025-09-20 00:02:11,210] Trial 14 finished with value: 0.16067197483325812 and parameters: {'learning_rate': 0.1273884962745675, 'max_depth': 4, 'n_estimators': 292, 'subsample': 0.6770592813218195, 'colsample_bytree': 0.5054875959656592, 'reg_alpha': 2.709092416407518e-06, 'reg_lambda': 2.8149055753848004e-07}. Best is trial 6 with value: 0.12254622143054816.\n",
      "[I 2025-09-20 00:02:11,289] Trial 15 finished with value: 0.1236084358050904 and parameters: {'learning_rate': 0.16400478675589983, 'max_depth': 4, 'n_estimators': 202, 'subsample': 0.9016299256991638, 'colsample_bytree': 0.6611016312181275, 'reg_alpha': 4.0955160390012856e-08, 'reg_lambda': 0.00026616923894136124}. Best is trial 6 with value: 0.12254622143054816.\n",
      "[I 2025-09-20 00:02:11,380] Trial 16 finished with value: 0.13446268003726813 and parameters: {'learning_rate': 0.08222055833673096, 'max_depth': 7, 'n_estimators': 182, 'subsample': 0.9082135073917796, 'colsample_bytree': 0.6925694638220776, 'reg_alpha': 2.2715719526154718e-08, 'reg_lambda': 0.0003616362061527073}. Best is trial 6 with value: 0.12254622143054816.\n",
      "[I 2025-09-20 00:02:11,485] Trial 17 finished with value: 0.1504960910632691 and parameters: {'learning_rate': 0.034993914021568144, 'max_depth': 4, 'n_estimators': 293, 'subsample': 0.8988797026579128, 'colsample_bytree': 0.7858726845498114, 'reg_alpha': 4.700696357675189e-07, 'reg_lambda': 0.0017578142379641615}. Best is trial 6 with value: 0.12254622143054816.\n",
      "[I 2025-09-20 00:02:11,578] Trial 18 finished with value: 0.15956624906802985 and parameters: {'learning_rate': 0.15677932437939723, 'max_depth': 5, 'n_estimators': 267, 'subsample': 0.6605711414736144, 'colsample_bytree': 0.5593443504795512, 'reg_alpha': 3.2452007800729975e-07, 'reg_lambda': 0.1320650084723716}. Best is trial 6 with value: 0.12254622143054816.\n",
      "[I 2025-09-20 00:02:11,683] Trial 19 finished with value: 0.13586011093402717 and parameters: {'learning_rate': 0.08919114788224859, 'max_depth': 4, 'n_estimators': 323, 'subsample': 0.7976343132758059, 'colsample_bytree': 0.6750875719374013, 'reg_alpha': 2.331281370047332e-08, 'reg_lambda': 9.885110197923237e-05}. Best is trial 6 with value: 0.12254622143054816.\n",
      "[I 2025-09-20 00:02:12,064] A new study created in memory with name: no-name-62917400-b146-40eb-962a-af9653245c8a\n",
      "[I 2025-09-20 00:02:12,167] Trial 0 finished with value: 0.18716313999439094 and parameters: {'learning_rate': 0.0453317338707856, 'max_depth': 3, 'n_estimators': 343, 'subsample': 0.8368682937874254, 'colsample_bytree': 0.9532865496423033, 'reg_alpha': 0.3587547144455676, 'reg_lambda': 0.0005128978292156788}. Best is trial 0 with value: 0.18716313999439094.\n",
      "[I 2025-09-20 00:02:12,291] Trial 1 finished with value: 0.14064874809528205 and parameters: {'learning_rate': 0.014889179532327934, 'max_depth': 4, 'n_estimators': 329, 'subsample': 0.679616902262103, 'colsample_bytree': 0.9929829182512546, 'reg_alpha': 0.0016296518094949908, 'reg_lambda': 5.252100826022228e-07}. Best is trial 1 with value: 0.14064874809528205.\n",
      "[I 2025-09-20 00:02:12,398] Trial 2 finished with value: 0.13753082912708137 and parameters: {'learning_rate': 0.10633553315318724, 'max_depth': 4, 'n_estimators': 356, 'subsample': 0.8756310746460199, 'colsample_bytree': 0.5156176294772892, 'reg_alpha': 0.0001244674927902234, 'reg_lambda': 0.26285008115900366}. Best is trial 2 with value: 0.13753082912708137.\n",
      "[I 2025-09-20 00:02:12,603] Trial 3 finished with value: 0.17268129747653815 and parameters: {'learning_rate': 0.1705524121988707, 'max_depth': 9, 'n_estimators': 206, 'subsample': 0.6188949230107115, 'colsample_bytree': 0.8189109513896251, 'reg_alpha': 3.5038049489403687e-06, 'reg_lambda': 5.690035039313683e-08}. Best is trial 2 with value: 0.13753082912708137.\n",
      "[I 2025-09-20 00:02:12,737] Trial 4 finished with value: 0.11168172519946906 and parameters: {'learning_rate': 0.08679832684380494, 'max_depth': 3, 'n_estimators': 483, 'subsample': 0.9826008264025534, 'colsample_bytree': 0.7332677294561054, 'reg_alpha': 7.83489065047142e-05, 'reg_lambda': 1.649644541496977}. Best is trial 4 with value: 0.11168172519946906.\n",
      "[I 2025-09-20 00:02:12,898] Trial 5 finished with value: 0.08024110954547736 and parameters: {'learning_rate': 0.1784090394848665, 'max_depth': 5, 'n_estimators': 306, 'subsample': 0.9610914403309838, 'colsample_bytree': 0.9377202244509204, 'reg_alpha': 0.0003286014235639273, 'reg_lambda': 0.19672071659057988}. Best is trial 5 with value: 0.08024110954547736.\n",
      "[I 2025-09-20 00:02:13,034] Trial 6 finished with value: 0.15623142879749152 and parameters: {'learning_rate': 0.07340184909343167, 'max_depth': 4, 'n_estimators': 305, 'subsample': 0.8259808428001638, 'colsample_bytree': 0.9092548152894993, 'reg_alpha': 4.8488553210827994e-08, 'reg_lambda': 1.37939571797855e-06}. Best is trial 5 with value: 0.08024110954547736.\n",
      "[I 2025-09-20 00:02:13,091] Trial 7 finished with value: 0.18716313999439094 and parameters: {'learning_rate': 0.046626350894426856, 'max_depth': 7, 'n_estimators': 103, 'subsample': 0.9085124393741035, 'colsample_bytree': 0.7477617179182006, 'reg_alpha': 1.839182664522121, 'reg_lambda': 0.5222612964183385}. Best is trial 5 with value: 0.08024110954547736.\n",
      "[I 2025-09-20 00:02:13,204] Trial 8 finished with value: 0.1270363585307679 and parameters: {'learning_rate': 0.016591695222057633, 'max_depth': 3, 'n_estimators': 249, 'subsample': 0.8641980002914262, 'colsample_bytree': 0.7971728495760231, 'reg_alpha': 0.0001160113901825943, 'reg_lambda': 0.01266558705361145}. Best is trial 5 with value: 0.08024110954547736.\n",
      "[I 2025-09-20 00:02:13,304] Trial 9 finished with value: 0.1384571449115357 and parameters: {'learning_rate': 0.21238099237985056, 'max_depth': 7, 'n_estimators': 306, 'subsample': 0.849777721576663, 'colsample_bytree': 0.734718347991784, 'reg_alpha': 9.736825305861388e-07, 'reg_lambda': 1.1287512937662907e-05}. Best is trial 5 with value: 0.08024110954547736.\n",
      "[I 2025-09-20 00:02:13,420] Trial 10 finished with value: 0.16030504864002082 and parameters: {'learning_rate': 0.29490730723964137, 'max_depth': 10, 'n_estimators': 431, 'subsample': 0.5102627244933742, 'colsample_bytree': 0.6001222325664347, 'reg_alpha': 0.0357630463682834, 'reg_lambda': 0.0032591106020833315}. Best is trial 5 with value: 0.08024110954547736.\n",
      "[I 2025-09-20 00:02:13,551] Trial 11 finished with value: 0.1035891429736695 and parameters: {'learning_rate': 0.11638518510545552, 'max_depth': 6, 'n_estimators': 500, 'subsample': 0.9942022822904032, 'colsample_bytree': 0.6586779667046005, 'reg_alpha': 0.004432905023610223, 'reg_lambda': 8.078619734509301}. Best is trial 5 with value: 0.08024110954547736.\n",
      "[I 2025-09-20 00:02:13,677] Trial 12 finished with value: 0.10285999935413215 and parameters: {'learning_rate': 0.13060643220377555, 'max_depth': 6, 'n_estimators': 500, 'subsample': 0.9969470284223082, 'colsample_bytree': 0.6448209080117175, 'reg_alpha': 0.010030730486593795, 'reg_lambda': 6.074767268126696}. Best is trial 5 with value: 0.08024110954547736.\n",
      "[I 2025-09-20 00:02:13,787] Trial 13 finished with value: 0.11238041084552619 and parameters: {'learning_rate': 0.16495431123850496, 'max_depth': 6, 'n_estimators': 409, 'subsample': 0.7519405128759449, 'colsample_bytree': 0.8640206518859814, 'reg_alpha': 0.02693632100411477, 'reg_lambda': 0.045277412499741265}. Best is trial 5 with value: 0.08024110954547736.\n",
      "[I 2025-09-20 00:02:13,873] Trial 14 finished with value: 0.13697358530307624 and parameters: {'learning_rate': 0.029186138250085432, 'max_depth': 5, 'n_estimators': 192, 'subsample': 0.9369812373411681, 'colsample_bytree': 0.6418231446968378, 'reg_alpha': 1.1460447732803776e-05, 'reg_lambda': 6.526963618375796}. Best is trial 5 with value: 0.08024110954547736.\n",
      "[I 2025-09-20 00:02:13,934] Trial 15 finished with value: 0.15083756607318732 and parameters: {'learning_rate': 0.2484598141130597, 'max_depth': 8, 'n_estimators': 105, 'subsample': 0.7622065924623842, 'colsample_bytree': 0.5324999820873781, 'reg_alpha': 0.09900045138651559, 'reg_lambda': 0.09763446068705753}. Best is trial 5 with value: 0.08024110954547736.\n",
      "[I 2025-09-20 00:02:55,371] Trial 16 finished with value: 0.12106540363574836 and parameters: {'learning_rate': 0.14349641793625845, 'max_depth': 5, 'n_estimators': 405, 'subsample': 0.9414542402035685, 'colsample_bytree': 0.6751701538251157, 'reg_alpha': 0.0017284092072385605, 'reg_lambda': 9.059478464954856e-05}. Best is trial 5 with value: 0.08024110954547736.\n",
      "[I 2025-09-20 00:02:55,457] Trial 17 finished with value: 0.18716313999439094 and parameters: {'learning_rate': 0.06101375685471384, 'max_depth': 5, 'n_estimators': 236, 'subsample': 0.9976013254823467, 'colsample_bytree': 0.5951910326361829, 'reg_alpha': 9.639533403411827, 'reg_lambda': 0.003038747913642304}. Best is trial 5 with value: 0.08024110954547736.\n",
      "[I 2025-09-20 00:02:14,396] Trial 18 finished with value: 0.11422684353137824 and parameters: {'learning_rate': 0.030177957270698788, 'max_depth': 8, 'n_estimators': 448, 'subsample': 0.7909982630438427, 'colsample_bytree': 0.8718882823144917, 'reg_alpha': 2.1935290669149046e-07, 'reg_lambda': 0.737892973763234}. Best is trial 5 with value: 0.08024110954547736.\n",
      "[I 2025-09-20 00:02:14,503] Trial 19 finished with value: 0.16263052385593268 and parameters: {'learning_rate': 0.12043096518871477, 'max_depth': 6, 'n_estimators': 373, 'subsample': 0.6826617685871514, 'colsample_bytree': 0.8058915337987141, 'reg_alpha': 0.006858782181564864, 'reg_lambda': 0.05710481921719623}. Best is trial 5 with value: 0.08024110954547736.\n",
      "[I 2025-09-20 00:02:14,506] A new study created in memory with name: no-name-50aa3ba2-b3f2-41bb-85b6-e089866144d0\n",
      "[I 2025-09-20 00:02:14,594] Trial 0 finished with value: 0.18274274032855842 and parameters: {'learning_rate': 0.14457877234604982, 'max_depth': 4, 'n_estimators': 245, 'subsample': 0.7897014814336658, 'colsample_bytree': 0.5716364962718825, 'reg_alpha': 0.2527078288866622, 'reg_lambda': 1.0925395917685462e-07}. Best is trial 0 with value: 0.18274274032855842.\n",
      "[I 2025-09-20 00:02:14,715] Trial 1 finished with value: 0.18136193912769172 and parameters: {'learning_rate': 0.030345278610440545, 'max_depth': 4, 'n_estimators': 399, 'subsample': 0.7761626355556608, 'colsample_bytree': 0.6070977633243007, 'reg_alpha': 1.8974623367227026e-07, 'reg_lambda': 0.006725794693905279}. Best is trial 1 with value: 0.18136193912769172.\n",
      "[I 2025-09-20 00:02:14,911] Trial 2 finished with value: 0.19624384802127692 and parameters: {'learning_rate': 0.09102438966740925, 'max_depth': 4, 'n_estimators': 256, 'subsample': 0.5990420445775704, 'colsample_bytree': 0.9338393846407513, 'reg_alpha': 7.84917320078262e-05, 'reg_lambda': 1.3558795395785735e-06}. Best is trial 1 with value: 0.18136193912769172.\n",
      "[I 2025-09-20 00:02:14,991] Trial 3 finished with value: 0.18716313999439094 and parameters: {'learning_rate': 0.03686534478563128, 'max_depth': 9, 'n_estimators': 162, 'subsample': 0.7337296769158816, 'colsample_bytree': 0.9030882826162665, 'reg_alpha': 9.177590982304828, 'reg_lambda': 0.00015731388158490747}. Best is trial 1 with value: 0.18136193912769172.\n",
      "[I 2025-09-20 00:02:15,111] Trial 4 finished with value: 0.18716313999439094 and parameters: {'learning_rate': 0.040014573562062714, 'max_depth': 3, 'n_estimators': 257, 'subsample': 0.8061333020670975, 'colsample_bytree': 0.9661431047468749, 'reg_alpha': 2.4352701265258063, 'reg_lambda': 2.072694710033256}. Best is trial 1 with value: 0.18136193912769172.\n",
      "[I 2025-09-20 00:02:15,235] Trial 5 finished with value: 0.19276967209125373 and parameters: {'learning_rate': 0.010038450722172123, 'max_depth': 8, 'n_estimators': 220, 'subsample': 0.5329239056315445, 'colsample_bytree': 0.6781689510389031, 'reg_alpha': 2.1832611022680064e-06, 'reg_lambda': 0.1689452906072429}. Best is trial 1 with value: 0.18136193912769172.\n",
      "[I 2025-09-20 00:02:15,312] Trial 6 finished with value: 0.17557873886371467 and parameters: {'learning_rate': 0.10331357305236412, 'max_depth': 10, 'n_estimators': 249, 'subsample': 0.7181774769929505, 'colsample_bytree': 0.9804747218740157, 'reg_alpha': 2.1167214321739353e-08, 'reg_lambda': 0.0001419177674525163}. Best is trial 6 with value: 0.17557873886371467.\n",
      "[I 2025-09-20 00:02:15,388] Trial 7 finished with value: 0.19384350937152717 and parameters: {'learning_rate': 0.11594508595047956, 'max_depth': 7, 'n_estimators': 197, 'subsample': 0.8427776502866103, 'colsample_bytree': 0.563174413823013, 'reg_alpha': 0.01343692753333338, 'reg_lambda': 1.7986992972531342e-08}. Best is trial 6 with value: 0.17557873886371467.\n",
      "[I 2025-09-20 00:02:15,534] Trial 8 finished with value: 0.18757143181110236 and parameters: {'learning_rate': 0.0929163853287984, 'max_depth': 8, 'n_estimators': 401, 'subsample': 0.9085712805345778, 'colsample_bytree': 0.5942322051005331, 'reg_alpha': 4.38866820172253e-06, 'reg_lambda': 2.651977900301941e-07}. Best is trial 6 with value: 0.17557873886371467.\n",
      "[I 2025-09-20 00:02:15,803] Trial 9 finished with value: 0.18486067217136237 and parameters: {'learning_rate': 0.0218167126705365, 'max_depth': 3, 'n_estimators': 491, 'subsample': 0.602927903032382, 'colsample_bytree': 0.978752145815321, 'reg_alpha': 2.0571321263131575e-08, 'reg_lambda': 0.05382066609371684}. Best is trial 6 with value: 0.17557873886371467.\n",
      "[I 2025-09-20 00:02:15,864] Trial 10 finished with value: 0.06164076488757941 and parameters: {'learning_rate': 0.2416582095392854, 'max_depth': 10, 'n_estimators': 117, 'subsample': 0.9910229248703227, 'colsample_bytree': 0.8102913713641084, 'reg_alpha': 0.0011736238879818648, 'reg_lambda': 3.825129356085548e-05}. Best is trial 10 with value: 0.06164076488757941.\n",
      "[I 2025-09-20 00:02:15,920] Trial 11 finished with value: 0.0524109260394654 and parameters: {'learning_rate': 0.2814529703628262, 'max_depth': 10, 'n_estimators': 101, 'subsample': 0.9727532717342694, 'colsample_bytree': 0.8347846553735322, 'reg_alpha': 0.0016214675661181516, 'reg_lambda': 5.472955522129658e-05}. Best is trial 11 with value: 0.0524109260394654.\n",
      "[I 2025-09-20 00:02:15,991] Trial 12 finished with value: 0.053688849623449775 and parameters: {'learning_rate': 0.29866770791333624, 'max_depth': 10, 'n_estimators': 104, 'subsample': 0.9897597298840944, 'colsample_bytree': 0.8138411714661186, 'reg_alpha': 0.0016259560239490864, 'reg_lambda': 1.0639637100246102e-05}. Best is trial 11 with value: 0.0524109260394654.\n",
      "[I 2025-09-20 00:02:16,052] Trial 13 finished with value: 0.05515595834995124 and parameters: {'learning_rate': 0.29934194346803356, 'max_depth': 6, 'n_estimators': 108, 'subsample': 0.9999976683173206, 'colsample_bytree': 0.8085193316639969, 'reg_alpha': 0.006090211484860265, 'reg_lambda': 9.061681874398821e-06}. Best is trial 11 with value: 0.0524109260394654.\n",
      "[I 2025-09-20 00:02:16,135] Trial 14 finished with value: 0.15144595068240974 and parameters: {'learning_rate': 0.1840116285413012, 'max_depth': 10, 'n_estimators': 166, 'subsample': 0.9107477606537407, 'colsample_bytree': 0.8332876408833638, 'reg_alpha': 7.659019093356094e-05, 'reg_lambda': 0.0016933199620171044}. Best is trial 11 with value: 0.0524109260394654.\n",
      "[I 2025-09-20 00:02:16,233] Trial 15 finished with value: 0.15465077322269294 and parameters: {'learning_rate': 0.19475227085062063, 'max_depth': 9, 'n_estimators': 329, 'subsample': 0.9384141617582935, 'colsample_bytree': 0.7416459102953452, 'reg_alpha': 0.012133890551489855, 'reg_lambda': 4.078161467661567e-06}. Best is trial 11 with value: 0.0524109260394654.\n",
      "[I 2025-09-20 00:02:16,311] Trial 16 finished with value: 0.15969833296085212 and parameters: {'learning_rate': 0.06275455487777898, 'max_depth': 6, 'n_estimators': 107, 'subsample': 0.8738767609224817, 'colsample_bytree': 0.8748437058025654, 'reg_alpha': 0.0752939370618726, 'reg_lambda': 0.0012254048815259176}. Best is trial 11 with value: 0.0524109260394654.\n",
      "[I 2025-09-20 00:02:16,382] Trial 17 finished with value: 0.20801248710895393 and parameters: {'learning_rate': 0.26758811951777595, 'max_depth': 9, 'n_estimators': 160, 'subsample': 0.9514340046275385, 'colsample_bytree': 0.740044425228137, 'reg_alpha': 0.0005048184775127403, 'reg_lambda': 8.62791511955073e-06}. Best is trial 11 with value: 0.0524109260394654.\n",
      "[I 2025-09-20 00:02:16,485] Trial 18 finished with value: 0.19112678926730964 and parameters: {'learning_rate': 0.06394565298612782, 'max_depth': 8, 'n_estimators': 313, 'subsample': 0.695065233006392, 'colsample_bytree': 0.6721970552979423, 'reg_alpha': 9.56391358530708e-06, 'reg_lambda': 7.085879644302386e-07}. Best is trial 11 with value: 0.0524109260394654.\n",
      "[I 2025-09-20 00:02:16,556] Trial 19 finished with value: 0.18716313999439094 and parameters: {'learning_rate': 0.17617838657549473, 'max_depth': 7, 'n_estimators': 143, 'subsample': 0.8515248268910791, 'colsample_bytree': 0.8684933112631953, 'reg_alpha': 0.29507222681936085, 'reg_lambda': 4.422193436213724e-05}. Best is trial 11 with value: 0.0524109260394654.\n",
      "[I 2025-09-20 00:02:16,559] A new study created in memory with name: no-name-06044839-3f70-45c7-b00e-b6fe0d59b580\n",
      "[I 2025-09-20 00:02:16,676] Trial 0 finished with value: 0.15551414650226447 and parameters: {'learning_rate': 0.035378372558372374, 'max_depth': 6, 'n_estimators': 402, 'subsample': 0.7141876517774826, 'colsample_bytree': 0.6816419574345954, 'reg_alpha': 2.0969695040165874e-06, 'reg_lambda': 5.434075296174467e-07}. Best is trial 0 with value: 0.15551414650226447.\n",
      "[I 2025-09-20 00:02:16,769] Trial 1 finished with value: 0.14167251747394416 and parameters: {'learning_rate': 0.0948306750563498, 'max_depth': 6, 'n_estimators': 265, 'subsample': 0.8269241267618562, 'colsample_bytree': 0.7486507375609033, 'reg_alpha': 0.14298223535722068, 'reg_lambda': 0.02005016470535192}. Best is trial 1 with value: 0.14167251747394416.\n",
      "[I 2025-09-20 00:02:16,884] Trial 2 finished with value: 0.1879593388393006 and parameters: {'learning_rate': 0.032113129767130495, 'max_depth': 8, 'n_estimators': 330, 'subsample': 0.5487123908963119, 'colsample_bytree': 0.5014743584636283, 'reg_alpha': 0.0005016948603077234, 'reg_lambda': 1.20392605358064e-05}. Best is trial 1 with value: 0.14167251747394416.\n",
      "[I 2025-09-20 00:02:17,255] Trial 3 finished with value: 0.18716313999439094 and parameters: {'learning_rate': 0.09224118808624238, 'max_depth': 10, 'n_estimators': 467, 'subsample': 0.9887291883661693, 'colsample_bytree': 0.5439212304476395, 'reg_alpha': 1.3692406507642845, 'reg_lambda': 0.004456124701104669}. Best is trial 1 with value: 0.14167251747394416.\n",
      "[I 2025-09-20 00:02:17,571] Trial 4 finished with value: 0.15942456882739875 and parameters: {'learning_rate': 0.04186969375020218, 'max_depth': 7, 'n_estimators': 413, 'subsample': 0.54947131880837, 'colsample_bytree': 0.5299090883053537, 'reg_alpha': 2.022227338417085e-06, 'reg_lambda': 5.781457800984236}. Best is trial 1 with value: 0.14167251747394416.\n",
      "[I 2025-09-20 00:02:17,695] Trial 5 finished with value: 0.06564244192386481 and parameters: {'learning_rate': 0.02266043449228878, 'max_depth': 9, 'n_estimators': 360, 'subsample': 0.9433604665228826, 'colsample_bytree': 0.827863430373428, 'reg_alpha': 0.006298430017178315, 'reg_lambda': 0.0267409668243474}. Best is trial 5 with value: 0.06564244192386481.\n",
      "[I 2025-09-20 00:02:17,837] Trial 6 finished with value: 0.12491878431583259 and parameters: {'learning_rate': 0.026504090981441766, 'max_depth': 5, 'n_estimators': 286, 'subsample': 0.7549720453459261, 'colsample_bytree': 0.8435389541555123, 'reg_alpha': 1.3883511284799694e-06, 'reg_lambda': 0.00016005368864347038}. Best is trial 5 with value: 0.06564244192386481.\n",
      "[I 2025-09-20 00:02:17,994] Trial 7 finished with value: 0.18716313999439094 and parameters: {'learning_rate': 0.14451795353700672, 'max_depth': 10, 'n_estimators': 384, 'subsample': 0.5803366994669799, 'colsample_bytree': 0.8776656422056766, 'reg_alpha': 6.01402120030994, 'reg_lambda': 8.841282576501376e-06}. Best is trial 5 with value: 0.06564244192386481.\n",
      "[I 2025-09-20 00:02:18,160] Trial 8 finished with value: 0.1328090087726197 and parameters: {'learning_rate': 0.1173942753913305, 'max_depth': 5, 'n_estimators': 249, 'subsample': 0.6251497565670256, 'colsample_bytree': 0.6925624793762026, 'reg_alpha': 0.02592390698637059, 'reg_lambda': 1.745532744606341e-07}. Best is trial 5 with value: 0.06564244192386481.\n",
      "[I 2025-09-20 00:02:18,395] Trial 9 finished with value: 0.15124907654071662 and parameters: {'learning_rate': 0.016568900574976963, 'max_depth': 7, 'n_estimators': 455, 'subsample': 0.5183806770506892, 'colsample_bytree': 0.7745977440884202, 'reg_alpha': 0.13607824003966532, 'reg_lambda': 2.691460213188136e-08}. Best is trial 5 with value: 0.06564244192386481.\n",
      "[I 2025-09-20 00:02:18,493] Trial 10 finished with value: 0.12024130981708381 and parameters: {'learning_rate': 0.012475144344455439, 'max_depth': 3, 'n_estimators': 126, 'subsample': 0.9992668390956443, 'colsample_bytree': 0.9683203442300075, 'reg_alpha': 0.0007350205640788651, 'reg_lambda': 3.203562397298988}. Best is trial 5 with value: 0.06564244192386481.\n",
      "[I 2025-09-20 00:02:18,576] Trial 11 finished with value: 0.14682629268909309 and parameters: {'learning_rate': 0.011784867656798157, 'max_depth': 3, 'n_estimators': 100, 'subsample': 0.9961719046800646, 'colsample_bytree': 0.9980735878372012, 'reg_alpha': 0.00019785019997259375, 'reg_lambda': 5.394794245474408}. Best is trial 5 with value: 0.06564244192386481.\n",
      "[I 2025-09-20 00:02:18,664] Trial 12 finished with value: 0.0963722125842652 and parameters: {'learning_rate': 0.2735914786714495, 'max_depth': 3, 'n_estimators': 166, 'subsample': 0.9080356604099374, 'colsample_bytree': 0.9897208337179276, 'reg_alpha': 0.0007306323495253571, 'reg_lambda': 0.12728679238960144}. Best is trial 5 with value: 0.06564244192386481.\n",
      "[I 2025-09-20 00:02:18,765] Trial 13 finished with value: 0.08541652124667976 and parameters: {'learning_rate': 0.23330968152937848, 'max_depth': 9, 'n_estimators': 185, 'subsample': 0.867332696248858, 'colsample_bytree': 0.9169194488085872, 'reg_alpha': 0.004327282607761038, 'reg_lambda': 0.08676415175442932}. Best is trial 5 with value: 0.06564244192386481.\n",
      "[I 2025-09-20 00:02:18,911] Trial 14 finished with value: 0.09780439298892829 and parameters: {'learning_rate': 0.05709713080008464, 'max_depth': 9, 'n_estimators': 215, 'subsample': 0.9004336735568813, 'colsample_bytree': 0.9008684283731495, 'reg_alpha': 3.775122458061356e-08, 'reg_lambda': 0.15491519706984427}. Best is trial 5 with value: 0.06564244192386481.\n",
      "[I 2025-09-20 00:03:00,341] Trial 15 finished with value: 0.14814170759464118 and parameters: {'learning_rate': 0.23888255715061418, 'max_depth': 9, 'n_estimators': 336, 'subsample': 0.8843926372990722, 'colsample_bytree': 0.7980860342670576, 'reg_alpha': 0.007884772940823964, 'reg_lambda': 0.001617175934761476}. Best is trial 5 with value: 0.06564244192386481.\n",
      "[I 2025-09-20 00:03:00,451] Trial 16 finished with value: 0.0997557894542298 and parameters: {'learning_rate': 0.02026377729170528, 'max_depth': 8, 'n_estimators': 204, 'subsample': 0.8032018985984878, 'colsample_bytree': 0.9197712590712531, 'reg_alpha': 2.106111937721844e-05, 'reg_lambda': 0.16817410738313218}. Best is trial 5 with value: 0.06564244192386481.\n",
      "[I 2025-09-20 00:02:19,329] Trial 17 finished with value: 0.07858576935077521 and parameters: {'learning_rate': 0.059482525803058045, 'max_depth': 9, 'n_estimators': 343, 'subsample': 0.9302558491569799, 'colsample_bytree': 0.8420417491927199, 'reg_alpha': 0.006658600717377835, 'reg_lambda': 0.0001888747412433376}. Best is trial 5 with value: 0.06564244192386481.\n",
      "[I 2025-09-20 00:02:19,521] Trial 18 finished with value: 0.14815315168643806 and parameters: {'learning_rate': 0.05473382056442347, 'max_depth': 8, 'n_estimators': 345, 'subsample': 0.938676703737544, 'colsample_bytree': 0.8275748295679097, 'reg_alpha': 0.1963135190432851, 'reg_lambda': 0.0002165341555789934}. Best is trial 5 with value: 0.06564244192386481.\n",
      "[I 2025-09-20 00:02:19,710] Trial 19 finished with value: 0.15366860788608405 and parameters: {'learning_rate': 0.06870676706448543, 'max_depth': 10, 'n_estimators': 370, 'subsample': 0.7072122372754122, 'colsample_bytree': 0.7018101261225961, 'reg_alpha': 5.7540684447288933e-05, 'reg_lambda': 1.3262012298830978e-05}. Best is trial 5 with value: 0.06564244192386481.\n"
     ]
    },
    {
     "name": "stdout",
     "output_type": "stream",
     "text": [
      "\u001b[48;2;255;255;0mWhy\u001b[0m \u001b[48;2;255;255;255mis\u001b[0m \u001b[48;2;255;255;253mthe\u001b[0m \u001b[48;2;255;255;254msky\u001b[0m \u001b[48;2;255;255;247mblue?\u001b[0m \n",
      "\n",
      "Analysis Results:\n",
      "\u001b[38;2;255;0;0mWhy\u001b[0m \u001b[38;2;0;0;255mis\u001b[0m \u001b[38;2;81;81;255mthe\u001b[0m \u001b[38;2;41;41;255msky\u001b[0m \u001b[38;2;157;157;255mblue?\u001b[0m \n"
     ]
    }
   ],
   "source": [
    "prompt1 = \"Why is the sky blue?\"\n",
    "\n",
    "print(f\"Analyzing with phi4-reasoning: '{prompt1}'\")\n",
    "print(\"=\"*60)\n",
    "\n",
    "# Perform TokenSHAP analysis\n",
    "df_phi4 = token_shap_phi4.analyze(\n",
    "    prompt1, \n",
    "    sampling_ratio=0.0,  # Use only essential combinations for faster execution\n",
    "    print_highlight_text=True\n",
    ")\n",
    "\n",
    "# Display results\n",
    "print(\"\\nAnalysis Results:\")\n",
    "token_shap_phi4.print_colored_text()"
   ]
  }
 ],
 "metadata": {
  "kernelspec": {
   "display_name": "tokenshap",
   "language": "python",
   "name": "python3"
  },
  "language_info": {
   "codemirror_mode": {
    "name": "ipython",
    "version": 3
   },
   "file_extension": ".py",
   "mimetype": "text/x-python",
   "name": "python",
   "nbconvert_exporter": "python",
   "pygments_lexer": "ipython3",
   "version": "3.12.3"
  }
 },
 "nbformat": 4,
 "nbformat_minor": 5
}
